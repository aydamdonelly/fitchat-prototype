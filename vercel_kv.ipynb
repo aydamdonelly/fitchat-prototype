{
 "cells": [
  {
   "cell_type": "code",
   "execution_count": 35,
   "metadata": {},
   "outputs": [],
   "source": [
    "from app.utils.vercel_kv import KV\n",
    "from datetime import datetime\n",
    "kv = KV()"
   ]
  },
  {
   "cell_type": "code",
   "execution_count": 2,
   "metadata": {},
   "outputs": [
    {
     "data": {
      "text/plain": [
       "'test'"
      ]
     },
     "execution_count": 2,
     "metadata": {},
     "output_type": "execute_result"
    }
   ],
   "source": [
    "kv.set('test', 'test')\n",
    "kv.get('test')"
   ]
  },
  {
   "cell_type": "code",
   "execution_count": 50,
   "metadata": {},
   "outputs": [
    {
     "data": {
      "text/plain": [
       "'{\"progress\": [{\"date\": \"\\'2022-10-10\\'\", \"calories\": 0, \"steps\": 10000, \"weight\": 0.0, \"protein\": 0.0}, {\"date\": \"\\'2022-10-20\\'\", \"calories\": null, \"steps\": 4000, \"weight\": 90.2, \"protein\": null}, {\"date\": \"\\'2022-10-25\\'\", \"calories\": null, \"steps\": 2004, \"weight\": 89.4, \"protein\": 55.0}, {\"date\": \"\\'2022-01-01\\'\", \"calories\": 2000, \"steps\": 1000, \"weight\": 70.5, \"protein\": 244.0}, {\"date\": \"\\'2022-01-01\\'\", \"calories\": 1755, \"steps\": 13455, \"weight\": 87.4, \"protein\": 100.0}, {\"date\": \"\\'2022-10-28\\'\", \"calories\": 2400, \"steps\": 15000, \"weight\": 89.4, \"protein\": 40.0}, {\"date\": \"\\'2022-03-28\\'\", \"calories\": 2900, \"steps\": 4000, \"weight\": 91.4, \"protein\": 34.0}, {\"date\": \"\\'2022-10-10\\'\", \"calories\": 2000, \"steps\": 14000, \"weight\": 99.4, \"protein\": 134.0}], \"current_day\": 9, \"height\": null, \"gender\": \"\\'male\\'\", \"age\": 19}'"
      ]
     },
     "execution_count": 50,
     "metadata": {},
     "output_type": "execute_result"
    }
   ],
   "source": [
    "kv.get('+4917634309888')"
   ]
  },
  {
   "cell_type": "code",
   "execution_count": 51,
   "metadata": {},
   "outputs": [
    {
     "data": {
      "text/plain": [
       "'OK'"
      ]
     },
     "execution_count": 51,
     "metadata": {},
     "output_type": "execute_result"
    }
   ],
   "source": [
    "kv.set('+4917634309888', None)"
   ]
  },
  {
   "cell_type": "code",
   "execution_count": 21,
   "metadata": {},
   "outputs": [],
   "source": [
    "import datetime"
   ]
  },
  {
   "cell_type": "code",
   "execution_count": 29,
   "metadata": {},
   "outputs": [
    {
     "data": {
      "text/plain": [
       "'2024-06-25'"
      ]
     },
     "execution_count": 29,
     "metadata": {},
     "output_type": "execute_result"
    }
   ],
   "source": [
    "#parse date\n",
    "datetime.datetime.now().isoformat().split('T')[0]"
   ]
  },
  {
   "cell_type": "code",
   "execution_count": 39,
   "metadata": {},
   "outputs": [
    {
     "ename": "AttributeError",
     "evalue": "module 'datetime' has no attribute 'now'",
     "output_type": "error",
     "traceback": [
      "\u001b[0;31m---------------------------------------------------------------------------\u001b[0m",
      "\u001b[0;31mAttributeError\u001b[0m                            Traceback (most recent call last)",
      "Cell \u001b[0;32mIn[39], line 1\u001b[0m\n\u001b[0;32m----> 1\u001b[0m \u001b[38;5;28mprint\u001b[39m(\u001b[43mdatetime\u001b[49m\u001b[38;5;241;43m.\u001b[39;49m\u001b[43mnow\u001b[49m())\n",
      "\u001b[0;31mAttributeError\u001b[0m: module 'datetime' has no attribute 'now'"
     ]
    }
   ],
   "source": [
    "print(datetime.now())"
   ]
  },
  {
   "cell_type": "code",
   "execution_count": null,
   "metadata": {},
   "outputs": [],
   "source": []
  }
 ],
 "metadata": {
  "kernelspec": {
   "display_name": "fitchat-prototype-ladxDjCv",
   "language": "python",
   "name": "python3"
  },
  "language_info": {
   "codemirror_mode": {
    "name": "ipython",
    "version": 3
   },
   "file_extension": ".py",
   "mimetype": "text/x-python",
   "name": "python",
   "nbconvert_exporter": "python",
   "pygments_lexer": "ipython3",
   "version": "3.12.0"
  }
 },
 "nbformat": 4,
 "nbformat_minor": 2
}
