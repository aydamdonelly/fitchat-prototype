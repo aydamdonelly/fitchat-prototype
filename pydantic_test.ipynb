{
 "cells": [
  {
   "cell_type": "code",
   "execution_count": 9,
   "metadata": {},
   "outputs": [],
   "source": [
    "from typing import List\n",
    "\n",
    "from langchain.output_parsers import PydanticOutputParser\n",
    "from langchain_core.prompts import PromptTemplate\n",
    "from langchain_core.pydantic_v1 import BaseModel, Field\n",
    "from langchain_openai import ChatOpenAI\n",
    "\n",
    "from typing import Optional\n",
    "\n",
    "\n",
    "from dotenv import load_dotenv\n"
   ]
  },
  {
   "cell_type": "code",
   "execution_count": 10,
   "metadata": {},
   "outputs": [],
   "source": [
    "load_dotenv()\n",
    "import os\n",
    "\n",
    "OPENAI_API_KEY = os.getenv(\"OPENAI_API_KEY\")\n",
    "OPENAI_ASSISTANT_ID = os.getenv(\"OPENAI_ASSISTANT_ID\")\n",
    "# model = ChatOpenAI(api_key=\"sk-proj-\")"
   ]
  },
  {
   "cell_type": "code",
   "execution_count": 12,
   "metadata": {},
   "outputs": [],
   "source": [
    "# Define your desired data structure.\n",
    "class DailyProgress(BaseModel):\n",
    "    calories: Optional[int] = Field(description=\"calories consumed today\")\n",
    "    steps: Optional[int] = Field(description=\"steps taken today\")\n",
    "    weight: Optional[float] = Field(description=\"weight in kg\")\n",
    "    protein: Optional[float] = Field(description=\"grams of protein consumed today\")\n",
    "\n",
    "\n",
    "# And a query intented to prompt a language model to populate the data structure.\n",
    "user_query = \"I consumed 2000 calories, took 5000 steps, and ate 100g of protein today.\"\n",
    "\n",
    "# Set up a parser + inject instructions into the prompt template.\n",
    "parser = PydanticOutputParser(pydantic_object=DailyProgress)\n",
    "\n",
    "prompt = PromptTemplate(\n",
    "    template=\"Extract the metrics based on these instructions: \\n{format_instructions}\\n Those are the given information: {query}\\n\",\n",
    "    input_variables=[\"query\"],\n",
    "    partial_variables={\"format_instructions\": parser.get_format_instructions()},\n",
    ")\n",
    "\n",
    "chain = prompt | model | parser\n",
    "\n",
    "obj = chain.invoke({\"query\": user_query})"
   ]
  },
  {
   "cell_type": "code",
   "execution_count": 13,
   "metadata": {},
   "outputs": [
    {
     "data": {
      "text/plain": [
       "DailyProgress(calories=2000, steps=5000, weight=None, protein=100.0)"
      ]
     },
     "execution_count": 13,
     "metadata": {},
     "output_type": "execute_result"
    }
   ],
   "source": [
    "obj"
   ]
  },
  {
   "cell_type": "code",
   "execution_count": null,
   "metadata": {},
   "outputs": [],
   "source": [
    "user_object = {\n",
    "    daily_reports: [\n",
    "        {\n",
    "            calories: 2000,\n",
    "            steps: 5000,\n",
    "            protein: 100\n",
    "        },\n",
    "        {\n",
    "            calories: 2000,\n",
    "            steps: 5000,\n",
    "            protein: 100\n",
    "        }\n",
    "    ]\n",
    "}"
   ]
  }
 ],
 "metadata": {
  "kernelspec": {
   "display_name": "fitchat-prototype-ladxDjCv",
   "language": "python",
   "name": "python3"
  },
  "language_info": {
   "codemirror_mode": {
    "name": "ipython",
    "version": 3
   },
   "file_extension": ".py",
   "mimetype": "text/x-python",
   "name": "python",
   "nbconvert_exporter": "python",
   "pygments_lexer": "ipython3",
   "version": "3.12.4"
  }
 },
 "nbformat": 4,
 "nbformat_minor": 2
}
