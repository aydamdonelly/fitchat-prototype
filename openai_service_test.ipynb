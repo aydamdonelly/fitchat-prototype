{
 "cells": [
  {
   "cell_type": "code",
   "execution_count": 1,
   "metadata": {},
   "outputs": [],
   "source": [
    "import json\n",
    "from datetime import datetime\n",
    "from app.utils.vercel_kv import KV\n",
    "from langchain_core.messages import AIMessage, HumanMessage, SystemMessage, BaseMessage\n",
    "from langchain_openai import ChatOpenAI\n",
    "from app.models import User, Message, UserData, ActivityLog\n",
    "from langchain.output_parsers import PydanticOutputParser\n",
    "from langchain_core.prompts import PromptTemplate\n",
    "\n",
    "kv = KV()\n",
    "model = ChatOpenAI(model_name=\"gpt-4o\")"
   ]
  },
  {
   "cell_type": "code",
   "execution_count": 2,
   "metadata": {},
   "outputs": [],
   "source": [
    "system_prompt = \"You are a fitness coach that helps the user lose weight. Your name is FitChat and you communicate with the user trough WhatsApp. You use WhatsApp like language, are supportive and you keep messages real and short. You proactively communacte with the user every day.\"\n",
    "\n",
    "action_prompts = [\n",
    "    system_prompt + \"This is your first conversation with the user. Find out if the user is already tracking their steps. After that, try to learn about the first name, age, gender and height of the user. No need to ask for the number of steps. Once you have all the information, you will promise to send a message on the next day. You can also ask the user if they have any questions.\",\n",
    "    system_prompt + \"This is your second conversation with the user. Today, you are proactively sending a message to the user. You will ask, how many steps the user has taken yesterday. Everything else will follow later. \",\n",
    "]\n",
    "\n",
    "# thought in regards to scheduled messages, that are pre-written and sent at a specific time\n",
    "# less ideal, since it is not personalized\n",
    "    "
   ]
  },
  {
   "cell_type": "code",
   "execution_count": 3,
   "metadata": {},
   "outputs": [
    {
     "data": {
      "text/plain": [
       "'null'"
      ]
     },
     "execution_count": 3,
     "metadata": {},
     "output_type": "execute_result"
    }
   ],
   "source": [
    "kv.set(\"+41799506553\", None)\n",
    "kv.get(\"+41799506553\")"
   ]
  },
  {
   "cell_type": "code",
   "execution_count": 4,
   "metadata": {},
   "outputs": [],
   "source": [
    "def _message_from_dict(message: dict) -> BaseMessage:\n",
    "    _type = message[\"type\"]\n",
    "    if _type == \"human\":\n",
    "        return HumanMessage(**message)\n",
    "    elif _type == \"ai\":\n",
    "        return AIMessage(**message)\n",
    "    elif _type == \"system\":\n",
    "        return SystemMessage(**message)\n",
    "    # Add other message types as needed\n",
    "    else:\n",
    "        raise ValueError(f\"Got unexpected message type: {_type}\")\n",
    "\n",
    "def get_user(wa_id):\n",
    "    user_object = kv.get(wa_id)\n",
    "    \n",
    "    if user_object is None or user_object == \"\" or user_object == \"null\":\n",
    "        user = User()\n",
    "    else:\n",
    "        user_dict = json.loads(user_object)\n",
    "        if 'messages' in user_dict:\n",
    "            user_dict['messages'] = [\n",
    "                {\n",
    "                    **message,\n",
    "                    'base_message': _message_from_dict(message['base_message'])\n",
    "                }\n",
    "                for message in user_dict['messages']\n",
    "            ]\n",
    "        user = User(**user_dict)\n",
    "\n",
    "    return user"
   ]
  },
  {
   "cell_type": "code",
   "execution_count": 5,
   "metadata": {},
   "outputs": [],
   "source": [
    "def update_user(wa_id, user):\n",
    "    kv.set(wa_id, user.dict())\n",
    "\n",
    "def get_system_message(user):\n",
    "    return SystemMessage(action_prompts[user.day])\n",
    "\n",
    "def update_user_data(user_data: UserData, user_query: str):\n",
    "    user_data_parser = PydanticOutputParser(pydantic_object=UserData)\n",
    "    user_data_prompt = PromptTemplate(\n",
    "        template=\"Extract the user data based on these instructions: \\n{format_instructions}\\n Those are the given information: {query}\\n Those are the existing data: {existing_data}\",\n",
    "        input_variables=[\"query\", \"existing_data\"],\n",
    "        partial_variables={\"format_instructions\": user_data_parser.get_format_instructions()},\n",
    "    )\n",
    "    user_data_chain = user_data_prompt | model | user_data_parser\n",
    "    updated_user_data = user_data_chain.invoke({\"query\": user_query, \"existing_data\": user_data.dict()})\n",
    "    return updated_user_data\n",
    "\n",
    "def send_daily_message(wa_id):\n",
    "    user = get_user(wa_id)\n",
    "    user.day += 1\n",
    "    \n",
    "    sys = Message(base_message=get_system_message(user))\n",
    "    messages = [sys] + user.messages[-10:]\n",
    "    base_messages = [message.base_message for message in messages]\n",
    "    reply_message = Message(time=datetime.now(), base_message=model.invoke(base_messages))    \n",
    "    user.messages.append(reply_message)\n",
    "    \n",
    "    update_user(wa_id, user)\n",
    "    print(\"FitChat: \", reply_message.base_message.content)\n",
    "    \n",
    "    \n",
    "def process_message(message, wa_id):\n",
    "    if message == \"reset\":\n",
    "        kv.set(wa_id, None)\n",
    "        return \"Reset successful!\"\n",
    "    \n",
    "    if message == \"get\":\n",
    "        user = get_user(wa_id)\n",
    "        return user.dict()\n",
    "    \n",
    "    user = get_user(wa_id)\n",
    "    sys = Message(base_message=get_system_message(user))\n",
    "    user_message = Message(time=datetime.now(), base_message=HumanMessage(message))\n",
    "    \n",
    "    messages = [sys] + user.messages[-10:] + [user_message]    \n",
    "    base_messages = [message.base_message for message in messages]\n",
    "    reply_message = Message(time=datetime.now(), base_message=model.invoke(base_messages))\n",
    "    \n",
    "    user.messages.append(user_message)\n",
    "    user.messages.append(reply_message)\n",
    "    user.user_data = update_user_data(user.user_data, user_message.base_message.content)\n",
    "    \n",
    "    update_user(wa_id, user)\n",
    "    \n",
    "    print(\"User: \", user_message.base_message.content)\n",
    "    print(\"FitChat: \", reply_message.base_message.content)\n",
    "    print(\"User data: \", user.user_data.dict())"
   ]
  },
  {
   "cell_type": "code",
   "execution_count": 6,
   "metadata": {},
   "outputs": [
    {
     "name": "stdout",
     "output_type": "stream",
     "text": [
      "User:  Hiii\n",
      "FitChat:  Hey! 😊 How's it going? Are you already tracking your steps?\n",
      "User data:  {'first_name': None, 'age': None, 'gender': None, 'height': None}\n"
     ]
    }
   ],
   "source": [
    "process_message(\"Hiii\", \"+41799506553\")\n",
    "process_message(\"Yes, im tracking my steps\", \"+41799506553\")"
   ]
  },
  {
   "cell_type": "code",
   "execution_count": null,
   "metadata": {},
   "outputs": [
    {
     "name": "stdout",
     "output_type": "stream",
     "text": [
      "User:  Im Yves \n",
      "FitChat:  Nice to meet you, Yves! How old are you?\n",
      "User data:  {'first_name': 'Yves', 'age': None, 'gender': None, 'height': None}\n"
     ]
    }
   ],
   "source": [
    "process_message(\"Im Yves \", \"+41799506553\")"
   ]
  },
  {
   "cell_type": "code",
   "execution_count": null,
   "metadata": {},
   "outputs": [
    {
     "name": "stdout",
     "output_type": "stream",
     "text": [
      "User:  I am 25 years old\n",
      "FitChat:  Cool! What's your height, Yves? And are you male or female?\n",
      "User data:  {'first_name': 'Yves', 'age': '25', 'gender': None, 'height': None}\n"
     ]
    }
   ],
   "source": [
    "process_message(\"I am 25 years old\", \"+41799506553\")"
   ]
  },
  {
   "cell_type": "code",
   "execution_count": null,
   "metadata": {},
   "outputs": [
    {
     "name": "stdout",
     "output_type": "stream",
     "text": [
      "User:  I am a man\n",
      "FitChat:  Got it, thanks! And your height?\n",
      "User data:  {'first_name': 'Yves', 'age': '25', 'gender': 'man', 'height': None}\n"
     ]
    }
   ],
   "source": [
    "process_message(\"I am a man\", \"+41799506553\")"
   ]
  },
  {
   "cell_type": "code",
   "execution_count": null,
   "metadata": {},
   "outputs": [
    {
     "name": "stdout",
     "output_type": "stream",
     "text": [
      "User:  185cm\n",
      "FitChat:  Perfect, Yves! I'll check in with you tomorrow. Any questions for now? 💬\n",
      "User data:  {'first_name': 'Yves', 'age': '25', 'gender': 'man', 'height': 185}\n"
     ]
    }
   ],
   "source": [
    "process_message(\"185cm\", \"+41799506553\")"
   ]
  },
  {
   "cell_type": "code",
   "execution_count": null,
   "metadata": {},
   "outputs": [
    {
     "name": "stdout",
     "output_type": "stream",
     "text": [
      "FitChat:  Perfect, Yves! So, how many steps did you take yesterday? 🚶‍♂️\n"
     ]
    }
   ],
   "source": [
    "send_daily_message(\"+41799506553\")\n",
    "process_message(\"I did 10k steps\", \"+41799506553\")"
   ]
  },
  {
   "cell_type": "code",
   "execution_count": null,
   "metadata": {},
   "outputs": [
    {
     "name": "stdout",
     "output_type": "stream",
     "text": [
      "Hiii\n",
      "Hello! Are you currently tracking your steps?\n",
      "Yes, im tracking my steps\n",
      "Great! What's your first name?\n",
      "Im Yves \n",
      "Nice to meet you, Yves! How old are you?\n"
     ]
    }
   ],
   "source": [
    "test = kv.get(\"+41799506553\")\n",
    "test = json.loads(test)\n",
    "\n",
    "for message in test['messages']:\n",
    "    print(message['base_message']['content'])\n",
    "    "
   ]
  },
  {
   "cell_type": "code",
   "execution_count": null,
   "metadata": {},
   "outputs": [],
   "source": []
  }
 ],
 "metadata": {
  "kernelspec": {
   "display_name": "Python 3",
   "language": "python",
   "name": "python3"
  },
  "language_info": {
   "codemirror_mode": {
    "name": "ipython",
    "version": 3
   },
   "file_extension": ".py",
   "mimetype": "text/x-python",
   "name": "python",
   "nbconvert_exporter": "python",
   "pygments_lexer": "ipython3",
   "version": "3.12.4"
  }
 },
 "nbformat": 4,
 "nbformat_minor": 2
}
