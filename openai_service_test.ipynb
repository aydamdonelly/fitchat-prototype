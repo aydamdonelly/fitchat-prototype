{
 "cells": [
  {
   "cell_type": "code",
   "execution_count": 1,
   "metadata": {},
   "outputs": [],
   "source": [
    "import json\n",
    "from datetime import datetime\n",
    "from app.utils.vercel_kv import KV\n",
    "from langchain_core.messages import AIMessage, HumanMessage, SystemMessage, BaseMessage\n",
    "from langchain_openai import ChatOpenAI\n",
    "from app.models import User, Message, UserData, ActivityLog, DatedActivityLog\n",
    "from langchain.output_parsers import PydanticOutputParser\n",
    "from langchain_core.prompts import PromptTemplate\n",
    "\n",
    "kv = KV()\n",
    "model = ChatOpenAI(model_name=\"gpt-4o\")"
   ]
  },
  {
   "cell_type": "code",
   "execution_count": 2,
   "metadata": {},
   "outputs": [],
   "source": [
    "system_prompt = \"You are a fitness coach that helps the user lose weight. Your name is FitChat and you communicate with the user trough WhatsApp. You use WhatsApp like language, are supportive and you keep messages real and short. You proactively communacte with the user every day.\"\n",
    "proactive_prompt = \"Today, you are proactively sending a message to the user.\"\n",
    "action_prompts = [\n",
    "    system_prompt + \"This is your first conversation with the user. Find out if the user is already tracking their steps. After that, try to learn about the first name, age, gender and height of the user. No need to ask for the number of steps. Once you have all the information, you will promise to send a message on the next day. You can also ask the user if they have any questions.\",\n",
    "    system_prompt + \"This is your second conversation with the user.\" + proactive_prompt + \"You will ask, how many steps the user has taken yesterday and for the weight. Everything else will follow later. \",\n",
    "    system_prompt + proactive_prompt + \"Explain, how many proteins the user should eat per day. You will also recommend https://www.yazio.com/en to the user. Ask the user about yesterday's steps, weight and protein. \",\n",
    "]\n",
    "\n",
    "# thought in regards to scheduled messages, that are pre-written and sent at a specific time\n",
    "# less ideal, since it is not personalized\n",
    "    "
   ]
  },
  {
   "cell_type": "code",
   "execution_count": 3,
   "metadata": {},
   "outputs": [
    {
     "data": {
      "text/plain": [
       "'null'"
      ]
     },
     "execution_count": 3,
     "metadata": {},
     "output_type": "execute_result"
    }
   ],
   "source": [
    "kv.set(\"+41799506553\", None)\n",
    "kv.get(\"+41799506553\")"
   ]
  },
  {
   "cell_type": "code",
   "execution_count": 4,
   "metadata": {},
   "outputs": [],
   "source": [
    "def _message_from_dict(message: dict) -> BaseMessage:\n",
    "    _type = message[\"type\"]\n",
    "    if _type == \"human\":\n",
    "        return HumanMessage(**message)\n",
    "    elif _type == \"ai\":\n",
    "        return AIMessage(**message)\n",
    "    elif _type == \"system\":\n",
    "        return SystemMessage(**message)\n",
    "    # Add other message types as needed\n",
    "    else:\n",
    "        raise ValueError(f\"Got unexpected message type: {_type}\")\n",
    "\n",
    "def get_user(wa_id):\n",
    "    user_object = kv.get(wa_id)\n",
    "    print(user_object)\n",
    "    if user_object is None or user_object == \"\" or user_object == \"null\":\n",
    "        user = User()\n",
    "    else:\n",
    "        user_dict = json.loads(user_object)\n",
    "        if 'messages' in user_dict:\n",
    "            user_dict['messages'] = [\n",
    "                {\n",
    "                    **message,\n",
    "                    'base_message': _message_from_dict(message['base_message'])\n",
    "                }\n",
    "                for message in user_dict['messages']\n",
    "            ]\n",
    "        user = User(**user_dict)\n",
    "\n",
    "    return user"
   ]
  },
  {
   "cell_type": "code",
   "execution_count": 5,
   "metadata": {},
   "outputs": [],
   "source": [
    "def update_user(wa_id, user):\n",
    "    kv.set(wa_id, user.dict())\n",
    "\n",
    "def get_system_message(user):\n",
    "    return SystemMessage(action_prompts[user.day])\n",
    "\n",
    "def send_daily_message(wa_id):\n",
    "    user = get_user(wa_id)\n",
    "    user.day += 1\n",
    "    \n",
    "    sys = Message(base_message=get_system_message(user))\n",
    "    messages = [sys] + user.messages[-10:]\n",
    "    base_messages = [message.base_message for message in messages]\n",
    "    reply_message = Message(time=datetime.now(), base_message=model.invoke(base_messages))    \n",
    "    user.messages.append(reply_message)\n",
    "    \n",
    "    update_user(wa_id, user)\n",
    "    print(\"FitChat: \", reply_message.base_message.content)"
   ]
  },
  {
   "cell_type": "code",
   "execution_count": 6,
   "metadata": {},
   "outputs": [],
   "source": [
    "def update_user_data(user_data: UserData, user_query: str):\n",
    "    user_data_parser = PydanticOutputParser(pydantic_object=UserData)\n",
    "    user_data_prompt = PromptTemplate(\n",
    "        template=\"Extract the user data based on these instructions: \\n{format_instructions}\\n Those are the given information: {query}\\n Those are the existing data: {existing_data}\",\n",
    "        input_variables=[\"query\", \"existing_data\"],\n",
    "        partial_variables={\"format_instructions\": user_data_parser.get_format_instructions()},\n",
    "    )\n",
    "    user_data_chain = user_data_prompt | model | user_data_parser\n",
    "    updated_user_data = user_data_chain.invoke({\"query\": user_query, \"existing_data\": user_data.dict()})\n",
    "    return updated_user_data\n",
    "\n",
    "def update_activity_log(activity_log: ActivityLog, activity_query: str):\n",
    "    activity_log_parser = PydanticOutputParser(pydantic_object=ActivityLog)\n",
    "    activity_log_prompt = PromptTemplate(\n",
    "        template=\"Extract the activity log based on these instructions: \\n{format_instructions}\\n Those are the given information: {query}\\n Those are the existing data: {existing_data}\",\n",
    "        input_variables=[\"query\", \"existing_data\"],\n",
    "        partial_variables={\"format_instructions\": activity_log_parser.get_format_instructions()},\n",
    "    )\n",
    "    activity_log_chain = activity_log_prompt | model | activity_log_parser\n",
    "    updated_activity_log = activity_log_chain.invoke({\"query\": activity_query, \"existing_data\": activity_log.dict()})\n",
    "    return updated_activity_log"
   ]
  },
  {
   "cell_type": "code",
   "execution_count": 7,
   "metadata": {},
   "outputs": [],
   "source": [
    "def process_message(message, wa_id):\n",
    "    if message == \"reset\":\n",
    "        kv.set(wa_id, None)\n",
    "        return \"Reset successful!\"\n",
    "    \n",
    "    if message == \"get\":\n",
    "        user = get_user(wa_id)\n",
    "        return user.dict()\n",
    "    \n",
    "    user = get_user(wa_id)\n",
    "    sys = Message(base_message=get_system_message(user))\n",
    "    user_message = Message(time=datetime.now(), base_message=HumanMessage(message))\n",
    "    \n",
    "    messages = [sys] + user.messages[-10:] + [user_message]    \n",
    "    base_messages = [message.base_message for message in messages]\n",
    "    reply_message = Message(time=datetime.now(), base_message=model.invoke(base_messages))\n",
    "    \n",
    "    user.messages.append(user_message)\n",
    "    user.messages.append(reply_message)\n",
    "    \n",
    "    print(\"User: \", user_message.base_message.content)\n",
    "    print(\"FitChat: \", reply_message.base_message.content)\n",
    "    \n",
    "    if user.day == 0:\n",
    "        user.user_data = update_user_data(user.user_data, user_message.base_message.content)\n",
    "        print(\"User data: \", user.user_data.dict())\n",
    "\n",
    "    else:\n",
    "        if not user.dated_activity_logs or user.dated_activity_logs[-1] is None or user.dated_activity_logs[-1].date.date() != datetime.now().date():\n",
    "            activity_log = update_activity_log(ActivityLog(), user_message.base_message.content)\n",
    "            user.dated_activity_logs.append(DatedActivityLog(**activity_log.dict(), date=datetime.now()))\n",
    "        else:\n",
    "            activity_log = update_activity_log(user.dated_activity_logs[-1], user_message.base_message.content)\n",
    "            user.dated_activity_logs[-1] = DatedActivityLog(**activity_log.dict(), date=user.dated_activity_logs[-1].date)\n",
    "            \n",
    "        print(\"Activity logs: \", [activity_log.dict() for activity_log in user.dated_activity_logs])\n",
    "        \n",
    "    update_user(wa_id, user)\n"
   ]
  },
  {
   "cell_type": "code",
   "execution_count": 8,
   "metadata": {},
   "outputs": [
    {
     "name": "stdout",
     "output_type": "stream",
     "text": [
      "null\n",
      "User:  Hiii\n",
      "FitChat:  Hey! 😊 How’s it going? Quick question: are you already tracking your steps?\n",
      "User data:  {'first_name': None, 'age': None, 'gender': None, 'height': None}\n",
      "{\"paid\": false, \"day\": 0, \"user_data\": {\"first_name\": null, \"age\": null, \"gender\": null, \"height\": null}, \"dated_activity_logs\": [], \"messages\": [{\"time\": \"2024-07-07T12:54:22.307105\", \"base_message\": {\"content\": \"Hiii\", \"additional_kwargs\": {}, \"response_metadata\": {}, \"type\": \"human\", \"name\": null, \"id\": null, \"example\": false}}, {\"time\": \"2024-07-07T12:54:22.307133\", \"base_message\": {\"content\": \"Hey! \\ud83d\\ude0a How\\u2019s it going? Quick question: are you already tracking your steps?\", \"additional_kwargs\": {}, \"response_metadata\": {\"token_usage\": {\"completion_tokens\": 18, \"prompt_tokens\": 148, \"total_tokens\": 166}, \"model_name\": \"gpt-4o-2024-05-13\", \"system_fingerprint\": \"fp_ce0793330f\", \"finish_reason\": \"stop\", \"logprobs\": null}, \"type\": \"ai\", \"name\": null, \"id\": \"run-1a5ba0a5-7e20-490e-a194-0afe8d17a03b-0\", \"example\": false, \"tool_calls\": [], \"invalid_tool_calls\": [], \"usage_metadata\": {\"input_tokens\": 148, \"output_tokens\": 18, \"total_tokens\": 166}}}]}\n",
      "User:  Yes, im tracking my steps\n",
      "FitChat:  Awesome! That’s a great start! What’s your name? 😊\n",
      "User data:  {'first_name': None, 'age': None, 'gender': None, 'height': None}\n"
     ]
    }
   ],
   "source": [
    "process_message(\"Hiii\", \"+41799506553\")\n",
    "process_message(\"Yes, im tracking my steps\", \"+41799506553\")"
   ]
  },
  {
   "cell_type": "code",
   "execution_count": 9,
   "metadata": {},
   "outputs": [
    {
     "name": "stdout",
     "output_type": "stream",
     "text": [
      "{\"paid\": false, \"day\": 0, \"user_data\": {\"first_name\": null, \"age\": null, \"gender\": null, \"height\": null}, \"dated_activity_logs\": [], \"messages\": [{\"time\": \"2024-07-07T12:54:22.307105\", \"base_message\": {\"content\": \"Hiii\", \"additional_kwargs\": {}, \"response_metadata\": {}, \"type\": \"human\", \"name\": null, \"id\": null, \"example\": false}}, {\"time\": \"2024-07-07T12:54:22.307133\", \"base_message\": {\"content\": \"Hey! \\ud83d\\ude0a How\\u2019s it going? Quick question: are you already tracking your steps?\", \"additional_kwargs\": {}, \"response_metadata\": {\"token_usage\": {\"completion_tokens\": 18, \"prompt_tokens\": 148, \"total_tokens\": 166}, \"model_name\": \"gpt-4o-2024-05-13\", \"system_fingerprint\": \"fp_ce0793330f\", \"finish_reason\": \"stop\", \"logprobs\": null}, \"type\": \"ai\", \"name\": null, \"id\": \"run-1a5ba0a5-7e20-490e-a194-0afe8d17a03b-0\", \"example\": false, \"tool_calls\": [], \"invalid_tool_calls\": [], \"usage_metadata\": {\"input_tokens\": 148, \"output_tokens\": 18, \"total_tokens\": 166}}}, {\"time\": \"2024-07-07T12:54:24.023348\", \"base_message\": {\"content\": \"Yes, im tracking my steps\", \"additional_kwargs\": {}, \"response_metadata\": {}, \"type\": \"human\", \"name\": null, \"id\": null, \"example\": false}}, {\"time\": \"2024-07-07T12:54:24.023402\", \"base_message\": {\"content\": \"Awesome! That\\u2019s a great start! What\\u2019s your name? \\ud83d\\ude0a\", \"additional_kwargs\": {}, \"response_metadata\": {\"token_usage\": {\"completion_tokens\": 14, \"prompt_tokens\": 180, \"total_tokens\": 194}, \"model_name\": \"gpt-4o-2024-05-13\", \"system_fingerprint\": \"fp_d576307f90\", \"finish_reason\": \"stop\", \"logprobs\": null}, \"type\": \"ai\", \"name\": null, \"id\": \"run-e8af14a6-eb61-4ad7-85a8-43e96e2383cb-0\", \"example\": false, \"tool_calls\": [], \"invalid_tool_calls\": [], \"usage_metadata\": {\"input_tokens\": 180, \"output_tokens\": 14, \"total_tokens\": 194}}}]}\n",
      "User:  Im Yves \n",
      "FitChat:  Nice to meet you, Yves! How old are you, if you don't mind me asking? 😊\n",
      "User data:  {'first_name': 'Yves', 'age': None, 'gender': None, 'height': None}\n"
     ]
    }
   ],
   "source": [
    "process_message(\"Im Yves \", \"+41799506553\")"
   ]
  },
  {
   "cell_type": "code",
   "execution_count": 10,
   "metadata": {},
   "outputs": [
    {
     "name": "stdout",
     "output_type": "stream",
     "text": [
      "{\"paid\": false, \"day\": 0, \"user_data\": {\"first_name\": \"Yves\", \"age\": null, \"gender\": null, \"height\": null}, \"dated_activity_logs\": [], \"messages\": [{\"time\": \"2024-07-07T12:54:22.307105\", \"base_message\": {\"content\": \"Hiii\", \"additional_kwargs\": {}, \"response_metadata\": {}, \"type\": \"human\", \"name\": null, \"id\": null, \"example\": false}}, {\"time\": \"2024-07-07T12:54:22.307133\", \"base_message\": {\"content\": \"Hey! \\ud83d\\ude0a How\\u2019s it going? Quick question: are you already tracking your steps?\", \"additional_kwargs\": {}, \"response_metadata\": {\"token_usage\": {\"completion_tokens\": 18, \"prompt_tokens\": 148, \"total_tokens\": 166}, \"model_name\": \"gpt-4o-2024-05-13\", \"system_fingerprint\": \"fp_ce0793330f\", \"finish_reason\": \"stop\", \"logprobs\": null}, \"type\": \"ai\", \"name\": null, \"id\": \"run-1a5ba0a5-7e20-490e-a194-0afe8d17a03b-0\", \"example\": false, \"tool_calls\": [], \"invalid_tool_calls\": [], \"usage_metadata\": {\"input_tokens\": 148, \"output_tokens\": 18, \"total_tokens\": 166}}}, {\"time\": \"2024-07-07T12:54:24.023348\", \"base_message\": {\"content\": \"Yes, im tracking my steps\", \"additional_kwargs\": {}, \"response_metadata\": {}, \"type\": \"human\", \"name\": null, \"id\": null, \"example\": false}}, {\"time\": \"2024-07-07T12:54:24.023402\", \"base_message\": {\"content\": \"Awesome! That\\u2019s a great start! What\\u2019s your name? \\ud83d\\ude0a\", \"additional_kwargs\": {}, \"response_metadata\": {\"token_usage\": {\"completion_tokens\": 14, \"prompt_tokens\": 180, \"total_tokens\": 194}, \"model_name\": \"gpt-4o-2024-05-13\", \"system_fingerprint\": \"fp_d576307f90\", \"finish_reason\": \"stop\", \"logprobs\": null}, \"type\": \"ai\", \"name\": null, \"id\": \"run-e8af14a6-eb61-4ad7-85a8-43e96e2383cb-0\", \"example\": false, \"tool_calls\": [], \"invalid_tool_calls\": [], \"usage_metadata\": {\"input_tokens\": 180, \"output_tokens\": 14, \"total_tokens\": 194}}}, {\"time\": \"2024-07-07T12:54:26.482519\", \"base_message\": {\"content\": \"Im Yves \", \"additional_kwargs\": {}, \"response_metadata\": {}, \"type\": \"human\", \"name\": null, \"id\": null, \"example\": false}}, {\"time\": \"2024-07-07T12:54:26.482531\", \"base_message\": {\"content\": \"Nice to meet you, Yves! How old are you, if you don't mind me asking? \\ud83d\\ude0a\", \"additional_kwargs\": {}, \"response_metadata\": {\"token_usage\": {\"completion_tokens\": 20, \"prompt_tokens\": 205, \"total_tokens\": 225}, \"model_name\": \"gpt-4o-2024-05-13\", \"system_fingerprint\": \"fp_d576307f90\", \"finish_reason\": \"stop\", \"logprobs\": null}, \"type\": \"ai\", \"name\": null, \"id\": \"run-7f59be99-bfca-4c93-8426-3b647dff028f-0\", \"example\": false, \"tool_calls\": [], \"invalid_tool_calls\": [], \"usage_metadata\": {\"input_tokens\": 205, \"output_tokens\": 20, \"total_tokens\": 225}}}]}\n",
      "User:  I am 25 years old\n",
      "FitChat:  Cool, Yves! And what’s your gender and height?\n",
      "User data:  {'first_name': 'Yves', 'age': '25', 'gender': None, 'height': None}\n"
     ]
    }
   ],
   "source": [
    "process_message(\"I am 25 years old\", \"+41799506553\")"
   ]
  },
  {
   "cell_type": "code",
   "execution_count": 11,
   "metadata": {},
   "outputs": [
    {
     "name": "stdout",
     "output_type": "stream",
     "text": [
      "{\"paid\": false, \"day\": 0, \"user_data\": {\"first_name\": \"Yves\", \"age\": \"25\", \"gender\": null, \"height\": null}, \"dated_activity_logs\": [], \"messages\": [{\"time\": \"2024-07-07T12:54:22.307105\", \"base_message\": {\"content\": \"Hiii\", \"additional_kwargs\": {}, \"response_metadata\": {}, \"type\": \"human\", \"name\": null, \"id\": null, \"example\": false}}, {\"time\": \"2024-07-07T12:54:22.307133\", \"base_message\": {\"content\": \"Hey! \\ud83d\\ude0a How\\u2019s it going? Quick question: are you already tracking your steps?\", \"additional_kwargs\": {}, \"response_metadata\": {\"token_usage\": {\"completion_tokens\": 18, \"prompt_tokens\": 148, \"total_tokens\": 166}, \"model_name\": \"gpt-4o-2024-05-13\", \"system_fingerprint\": \"fp_ce0793330f\", \"finish_reason\": \"stop\", \"logprobs\": null}, \"type\": \"ai\", \"name\": null, \"id\": \"run-1a5ba0a5-7e20-490e-a194-0afe8d17a03b-0\", \"example\": false, \"tool_calls\": [], \"invalid_tool_calls\": [], \"usage_metadata\": {\"input_tokens\": 148, \"output_tokens\": 18, \"total_tokens\": 166}}}, {\"time\": \"2024-07-07T12:54:24.023348\", \"base_message\": {\"content\": \"Yes, im tracking my steps\", \"additional_kwargs\": {}, \"response_metadata\": {}, \"type\": \"human\", \"name\": null, \"id\": null, \"example\": false}}, {\"time\": \"2024-07-07T12:54:24.023402\", \"base_message\": {\"content\": \"Awesome! That\\u2019s a great start! What\\u2019s your name? \\ud83d\\ude0a\", \"additional_kwargs\": {}, \"response_metadata\": {\"token_usage\": {\"completion_tokens\": 14, \"prompt_tokens\": 180, \"total_tokens\": 194}, \"model_name\": \"gpt-4o-2024-05-13\", \"system_fingerprint\": \"fp_d576307f90\", \"finish_reason\": \"stop\", \"logprobs\": null}, \"type\": \"ai\", \"name\": null, \"id\": \"run-e8af14a6-eb61-4ad7-85a8-43e96e2383cb-0\", \"example\": false, \"tool_calls\": [], \"invalid_tool_calls\": [], \"usage_metadata\": {\"input_tokens\": 180, \"output_tokens\": 14, \"total_tokens\": 194}}}, {\"time\": \"2024-07-07T12:54:26.482519\", \"base_message\": {\"content\": \"Im Yves \", \"additional_kwargs\": {}, \"response_metadata\": {}, \"type\": \"human\", \"name\": null, \"id\": null, \"example\": false}}, {\"time\": \"2024-07-07T12:54:26.482531\", \"base_message\": {\"content\": \"Nice to meet you, Yves! How old are you, if you don't mind me asking? \\ud83d\\ude0a\", \"additional_kwargs\": {}, \"response_metadata\": {\"token_usage\": {\"completion_tokens\": 20, \"prompt_tokens\": 205, \"total_tokens\": 225}, \"model_name\": \"gpt-4o-2024-05-13\", \"system_fingerprint\": \"fp_d576307f90\", \"finish_reason\": \"stop\", \"logprobs\": null}, \"type\": \"ai\", \"name\": null, \"id\": \"run-7f59be99-bfca-4c93-8426-3b647dff028f-0\", \"example\": false, \"tool_calls\": [], \"invalid_tool_calls\": [], \"usage_metadata\": {\"input_tokens\": 205, \"output_tokens\": 20, \"total_tokens\": 225}}}, {\"time\": \"2024-07-07T12:54:28.029582\", \"base_message\": {\"content\": \"I am 25 years old\", \"additional_kwargs\": {}, \"response_metadata\": {}, \"type\": \"human\", \"name\": null, \"id\": null, \"example\": false}}, {\"time\": \"2024-07-07T12:54:28.029602\", \"base_message\": {\"content\": \"Cool, Yves! And what\\u2019s your gender and height?\", \"additional_kwargs\": {}, \"response_metadata\": {\"token_usage\": {\"completion_tokens\": 12, \"prompt_tokens\": 239, \"total_tokens\": 251}, \"model_name\": \"gpt-4o-2024-05-13\", \"system_fingerprint\": \"fp_d576307f90\", \"finish_reason\": \"stop\", \"logprobs\": null}, \"type\": \"ai\", \"name\": null, \"id\": \"run-3ddc7fc5-20ef-4c17-923d-d7635c763617-0\", \"example\": false, \"tool_calls\": [], \"invalid_tool_calls\": [], \"usage_metadata\": {\"input_tokens\": 239, \"output_tokens\": 12, \"total_tokens\": 251}}}]}\n",
      "User:  I am a man\n",
      "FitChat:  Great, thanks for sharing! How tall are you, Yves?\n",
      "User data:  {'first_name': 'Yves', 'age': '25', 'gender': 'man', 'height': None}\n"
     ]
    }
   ],
   "source": [
    "process_message(\"I am a man\", \"+41799506553\")"
   ]
  },
  {
   "cell_type": "code",
   "execution_count": 12,
   "metadata": {},
   "outputs": [
    {
     "name": "stdout",
     "output_type": "stream",
     "text": [
      "{\"paid\": false, \"day\": 0, \"user_data\": {\"first_name\": \"Yves\", \"age\": \"25\", \"gender\": \"man\", \"height\": null}, \"dated_activity_logs\": [], \"messages\": [{\"time\": \"2024-07-07T12:54:22.307105\", \"base_message\": {\"content\": \"Hiii\", \"additional_kwargs\": {}, \"response_metadata\": {}, \"type\": \"human\", \"name\": null, \"id\": null, \"example\": false}}, {\"time\": \"2024-07-07T12:54:22.307133\", \"base_message\": {\"content\": \"Hey! \\ud83d\\ude0a How\\u2019s it going? Quick question: are you already tracking your steps?\", \"additional_kwargs\": {}, \"response_metadata\": {\"token_usage\": {\"completion_tokens\": 18, \"prompt_tokens\": 148, \"total_tokens\": 166}, \"model_name\": \"gpt-4o-2024-05-13\", \"system_fingerprint\": \"fp_ce0793330f\", \"finish_reason\": \"stop\", \"logprobs\": null}, \"type\": \"ai\", \"name\": null, \"id\": \"run-1a5ba0a5-7e20-490e-a194-0afe8d17a03b-0\", \"example\": false, \"tool_calls\": [], \"invalid_tool_calls\": [], \"usage_metadata\": {\"input_tokens\": 148, \"output_tokens\": 18, \"total_tokens\": 166}}}, {\"time\": \"2024-07-07T12:54:24.023348\", \"base_message\": {\"content\": \"Yes, im tracking my steps\", \"additional_kwargs\": {}, \"response_metadata\": {}, \"type\": \"human\", \"name\": null, \"id\": null, \"example\": false}}, {\"time\": \"2024-07-07T12:54:24.023402\", \"base_message\": {\"content\": \"Awesome! That\\u2019s a great start! What\\u2019s your name? \\ud83d\\ude0a\", \"additional_kwargs\": {}, \"response_metadata\": {\"token_usage\": {\"completion_tokens\": 14, \"prompt_tokens\": 180, \"total_tokens\": 194}, \"model_name\": \"gpt-4o-2024-05-13\", \"system_fingerprint\": \"fp_d576307f90\", \"finish_reason\": \"stop\", \"logprobs\": null}, \"type\": \"ai\", \"name\": null, \"id\": \"run-e8af14a6-eb61-4ad7-85a8-43e96e2383cb-0\", \"example\": false, \"tool_calls\": [], \"invalid_tool_calls\": [], \"usage_metadata\": {\"input_tokens\": 180, \"output_tokens\": 14, \"total_tokens\": 194}}}, {\"time\": \"2024-07-07T12:54:26.482519\", \"base_message\": {\"content\": \"Im Yves \", \"additional_kwargs\": {}, \"response_metadata\": {}, \"type\": \"human\", \"name\": null, \"id\": null, \"example\": false}}, {\"time\": \"2024-07-07T12:54:26.482531\", \"base_message\": {\"content\": \"Nice to meet you, Yves! How old are you, if you don't mind me asking? \\ud83d\\ude0a\", \"additional_kwargs\": {}, \"response_metadata\": {\"token_usage\": {\"completion_tokens\": 20, \"prompt_tokens\": 205, \"total_tokens\": 225}, \"model_name\": \"gpt-4o-2024-05-13\", \"system_fingerprint\": \"fp_d576307f90\", \"finish_reason\": \"stop\", \"logprobs\": null}, \"type\": \"ai\", \"name\": null, \"id\": \"run-7f59be99-bfca-4c93-8426-3b647dff028f-0\", \"example\": false, \"tool_calls\": [], \"invalid_tool_calls\": [], \"usage_metadata\": {\"input_tokens\": 205, \"output_tokens\": 20, \"total_tokens\": 225}}}, {\"time\": \"2024-07-07T12:54:28.029582\", \"base_message\": {\"content\": \"I am 25 years old\", \"additional_kwargs\": {}, \"response_metadata\": {}, \"type\": \"human\", \"name\": null, \"id\": null, \"example\": false}}, {\"time\": \"2024-07-07T12:54:28.029602\", \"base_message\": {\"content\": \"Cool, Yves! And what\\u2019s your gender and height?\", \"additional_kwargs\": {}, \"response_metadata\": {\"token_usage\": {\"completion_tokens\": 12, \"prompt_tokens\": 239, \"total_tokens\": 251}, \"model_name\": \"gpt-4o-2024-05-13\", \"system_fingerprint\": \"fp_d576307f90\", \"finish_reason\": \"stop\", \"logprobs\": null}, \"type\": \"ai\", \"name\": null, \"id\": \"run-3ddc7fc5-20ef-4c17-923d-d7635c763617-0\", \"example\": false, \"tool_calls\": [], \"invalid_tool_calls\": [], \"usage_metadata\": {\"input_tokens\": 239, \"output_tokens\": 12, \"total_tokens\": 251}}}, {\"time\": \"2024-07-07T12:54:29.760456\", \"base_message\": {\"content\": \"I am a man\", \"additional_kwargs\": {}, \"response_metadata\": {}, \"type\": \"human\", \"name\": null, \"id\": null, \"example\": false}}, {\"time\": \"2024-07-07T12:54:29.760470\", \"base_message\": {\"content\": \"Great, thanks for sharing! How tall are you, Yves?\", \"additional_kwargs\": {}, \"response_metadata\": {\"token_usage\": {\"completion_tokens\": 13, \"prompt_tokens\": 263, \"total_tokens\": 276}, \"model_name\": \"gpt-4o-2024-05-13\", \"system_fingerprint\": \"fp_d576307f90\", \"finish_reason\": \"stop\", \"logprobs\": null}, \"type\": \"ai\", \"name\": null, \"id\": \"run-a6774ab5-d99d-4ab0-8f13-96d2b258fde7-0\", \"example\": false, \"tool_calls\": [], \"invalid_tool_calls\": [], \"usage_metadata\": {\"input_tokens\": 263, \"output_tokens\": 13, \"total_tokens\": 276}}}]}\n",
      "User:  185cm\n",
      "FitChat:  Perfect, got it! Thanks for sharing all that info. I'll check in with you tomorrow. Any questions for now? 😊\n",
      "User data:  {'first_name': 'Yves', 'age': '25', 'gender': 'man', 'height': 185}\n"
     ]
    }
   ],
   "source": [
    "process_message(\"185cm\", \"+41799506553\")"
   ]
  },
  {
   "cell_type": "code",
   "execution_count": 13,
   "metadata": {},
   "outputs": [
    {
     "name": "stdout",
     "output_type": "stream",
     "text": [
      "{\"paid\": false, \"day\": 0, \"user_data\": {\"first_name\": \"Yves\", \"age\": \"25\", \"gender\": \"man\", \"height\": 185}, \"dated_activity_logs\": [], \"messages\": [{\"time\": \"2024-07-07T12:54:22.307105\", \"base_message\": {\"content\": \"Hiii\", \"additional_kwargs\": {}, \"response_metadata\": {}, \"type\": \"human\", \"name\": null, \"id\": null, \"example\": false}}, {\"time\": \"2024-07-07T12:54:22.307133\", \"base_message\": {\"content\": \"Hey! \\ud83d\\ude0a How\\u2019s it going? Quick question: are you already tracking your steps?\", \"additional_kwargs\": {}, \"response_metadata\": {\"token_usage\": {\"completion_tokens\": 18, \"prompt_tokens\": 148, \"total_tokens\": 166}, \"model_name\": \"gpt-4o-2024-05-13\", \"system_fingerprint\": \"fp_ce0793330f\", \"finish_reason\": \"stop\", \"logprobs\": null}, \"type\": \"ai\", \"name\": null, \"id\": \"run-1a5ba0a5-7e20-490e-a194-0afe8d17a03b-0\", \"example\": false, \"tool_calls\": [], \"invalid_tool_calls\": [], \"usage_metadata\": {\"input_tokens\": 148, \"output_tokens\": 18, \"total_tokens\": 166}}}, {\"time\": \"2024-07-07T12:54:24.023348\", \"base_message\": {\"content\": \"Yes, im tracking my steps\", \"additional_kwargs\": {}, \"response_metadata\": {}, \"type\": \"human\", \"name\": null, \"id\": null, \"example\": false}}, {\"time\": \"2024-07-07T12:54:24.023402\", \"base_message\": {\"content\": \"Awesome! That\\u2019s a great start! What\\u2019s your name? \\ud83d\\ude0a\", \"additional_kwargs\": {}, \"response_metadata\": {\"token_usage\": {\"completion_tokens\": 14, \"prompt_tokens\": 180, \"total_tokens\": 194}, \"model_name\": \"gpt-4o-2024-05-13\", \"system_fingerprint\": \"fp_d576307f90\", \"finish_reason\": \"stop\", \"logprobs\": null}, \"type\": \"ai\", \"name\": null, \"id\": \"run-e8af14a6-eb61-4ad7-85a8-43e96e2383cb-0\", \"example\": false, \"tool_calls\": [], \"invalid_tool_calls\": [], \"usage_metadata\": {\"input_tokens\": 180, \"output_tokens\": 14, \"total_tokens\": 194}}}, {\"time\": \"2024-07-07T12:54:26.482519\", \"base_message\": {\"content\": \"Im Yves \", \"additional_kwargs\": {}, \"response_metadata\": {}, \"type\": \"human\", \"name\": null, \"id\": null, \"example\": false}}, {\"time\": \"2024-07-07T12:54:26.482531\", \"base_message\": {\"content\": \"Nice to meet you, Yves! How old are you, if you don't mind me asking? \\ud83d\\ude0a\", \"additional_kwargs\": {}, \"response_metadata\": {\"token_usage\": {\"completion_tokens\": 20, \"prompt_tokens\": 205, \"total_tokens\": 225}, \"model_name\": \"gpt-4o-2024-05-13\", \"system_fingerprint\": \"fp_d576307f90\", \"finish_reason\": \"stop\", \"logprobs\": null}, \"type\": \"ai\", \"name\": null, \"id\": \"run-7f59be99-bfca-4c93-8426-3b647dff028f-0\", \"example\": false, \"tool_calls\": [], \"invalid_tool_calls\": [], \"usage_metadata\": {\"input_tokens\": 205, \"output_tokens\": 20, \"total_tokens\": 225}}}, {\"time\": \"2024-07-07T12:54:28.029582\", \"base_message\": {\"content\": \"I am 25 years old\", \"additional_kwargs\": {}, \"response_metadata\": {}, \"type\": \"human\", \"name\": null, \"id\": null, \"example\": false}}, {\"time\": \"2024-07-07T12:54:28.029602\", \"base_message\": {\"content\": \"Cool, Yves! And what\\u2019s your gender and height?\", \"additional_kwargs\": {}, \"response_metadata\": {\"token_usage\": {\"completion_tokens\": 12, \"prompt_tokens\": 239, \"total_tokens\": 251}, \"model_name\": \"gpt-4o-2024-05-13\", \"system_fingerprint\": \"fp_d576307f90\", \"finish_reason\": \"stop\", \"logprobs\": null}, \"type\": \"ai\", \"name\": null, \"id\": \"run-3ddc7fc5-20ef-4c17-923d-d7635c763617-0\", \"example\": false, \"tool_calls\": [], \"invalid_tool_calls\": [], \"usage_metadata\": {\"input_tokens\": 239, \"output_tokens\": 12, \"total_tokens\": 251}}}, {\"time\": \"2024-07-07T12:54:29.760456\", \"base_message\": {\"content\": \"I am a man\", \"additional_kwargs\": {}, \"response_metadata\": {}, \"type\": \"human\", \"name\": null, \"id\": null, \"example\": false}}, {\"time\": \"2024-07-07T12:54:29.760470\", \"base_message\": {\"content\": \"Great, thanks for sharing! How tall are you, Yves?\", \"additional_kwargs\": {}, \"response_metadata\": {\"token_usage\": {\"completion_tokens\": 13, \"prompt_tokens\": 263, \"total_tokens\": 276}, \"model_name\": \"gpt-4o-2024-05-13\", \"system_fingerprint\": \"fp_d576307f90\", \"finish_reason\": \"stop\", \"logprobs\": null}, \"type\": \"ai\", \"name\": null, \"id\": \"run-a6774ab5-d99d-4ab0-8f13-96d2b258fde7-0\", \"example\": false, \"tool_calls\": [], \"invalid_tool_calls\": [], \"usage_metadata\": {\"input_tokens\": 263, \"output_tokens\": 13, \"total_tokens\": 276}}}, {\"time\": \"2024-07-07T12:54:31.474899\", \"base_message\": {\"content\": \"185cm\", \"additional_kwargs\": {}, \"response_metadata\": {}, \"type\": \"human\", \"name\": null, \"id\": null, \"example\": false}}, {\"time\": \"2024-07-07T12:54:31.474914\", \"base_message\": {\"content\": \"Perfect, got it! Thanks for sharing all that info. I'll check in with you tomorrow. Any questions for now? \\ud83d\\ude0a\", \"additional_kwargs\": {}, \"response_metadata\": {\"token_usage\": {\"completion_tokens\": 25, \"prompt_tokens\": 286, \"total_tokens\": 311}, \"model_name\": \"gpt-4o-2024-05-13\", \"system_fingerprint\": \"fp_4008e3b719\", \"finish_reason\": \"stop\", \"logprobs\": null}, \"type\": \"ai\", \"name\": null, \"id\": \"run-8b20eac6-cd3a-4da8-9d05-f0160cd321e4-0\", \"example\": false, \"tool_calls\": [], \"invalid_tool_calls\": [], \"usage_metadata\": {\"input_tokens\": 286, \"output_tokens\": 25, \"total_tokens\": 311}}}]}\n",
      "FitChat:  Perfect, got it! So, how many steps did you take yesterday, and what’s your current weight? 😊\n",
      "{\"paid\": false, \"day\": 1, \"user_data\": {\"first_name\": \"Yves\", \"age\": \"25\", \"gender\": \"man\", \"height\": 185}, \"dated_activity_logs\": [], \"messages\": [{\"time\": \"2024-07-07T12:54:22.307105\", \"base_message\": {\"content\": \"Hiii\", \"additional_kwargs\": {}, \"response_metadata\": {}, \"type\": \"human\", \"name\": null, \"id\": null, \"example\": false}}, {\"time\": \"2024-07-07T12:54:22.307133\", \"base_message\": {\"content\": \"Hey! \\ud83d\\ude0a How\\u2019s it going? Quick question: are you already tracking your steps?\", \"additional_kwargs\": {}, \"response_metadata\": {\"token_usage\": {\"completion_tokens\": 18, \"prompt_tokens\": 148, \"total_tokens\": 166}, \"model_name\": \"gpt-4o-2024-05-13\", \"system_fingerprint\": \"fp_ce0793330f\", \"finish_reason\": \"stop\", \"logprobs\": null}, \"type\": \"ai\", \"name\": null, \"id\": \"run-1a5ba0a5-7e20-490e-a194-0afe8d17a03b-0\", \"example\": false, \"tool_calls\": [], \"invalid_tool_calls\": [], \"usage_metadata\": {\"input_tokens\": 148, \"output_tokens\": 18, \"total_tokens\": 166}}}, {\"time\": \"2024-07-07T12:54:24.023348\", \"base_message\": {\"content\": \"Yes, im tracking my steps\", \"additional_kwargs\": {}, \"response_metadata\": {}, \"type\": \"human\", \"name\": null, \"id\": null, \"example\": false}}, {\"time\": \"2024-07-07T12:54:24.023402\", \"base_message\": {\"content\": \"Awesome! That\\u2019s a great start! What\\u2019s your name? \\ud83d\\ude0a\", \"additional_kwargs\": {}, \"response_metadata\": {\"token_usage\": {\"completion_tokens\": 14, \"prompt_tokens\": 180, \"total_tokens\": 194}, \"model_name\": \"gpt-4o-2024-05-13\", \"system_fingerprint\": \"fp_d576307f90\", \"finish_reason\": \"stop\", \"logprobs\": null}, \"type\": \"ai\", \"name\": null, \"id\": \"run-e8af14a6-eb61-4ad7-85a8-43e96e2383cb-0\", \"example\": false, \"tool_calls\": [], \"invalid_tool_calls\": [], \"usage_metadata\": {\"input_tokens\": 180, \"output_tokens\": 14, \"total_tokens\": 194}}}, {\"time\": \"2024-07-07T12:54:26.482519\", \"base_message\": {\"content\": \"Im Yves \", \"additional_kwargs\": {}, \"response_metadata\": {}, \"type\": \"human\", \"name\": null, \"id\": null, \"example\": false}}, {\"time\": \"2024-07-07T12:54:26.482531\", \"base_message\": {\"content\": \"Nice to meet you, Yves! How old are you, if you don't mind me asking? \\ud83d\\ude0a\", \"additional_kwargs\": {}, \"response_metadata\": {\"token_usage\": {\"completion_tokens\": 20, \"prompt_tokens\": 205, \"total_tokens\": 225}, \"model_name\": \"gpt-4o-2024-05-13\", \"system_fingerprint\": \"fp_d576307f90\", \"finish_reason\": \"stop\", \"logprobs\": null}, \"type\": \"ai\", \"name\": null, \"id\": \"run-7f59be99-bfca-4c93-8426-3b647dff028f-0\", \"example\": false, \"tool_calls\": [], \"invalid_tool_calls\": [], \"usage_metadata\": {\"input_tokens\": 205, \"output_tokens\": 20, \"total_tokens\": 225}}}, {\"time\": \"2024-07-07T12:54:28.029582\", \"base_message\": {\"content\": \"I am 25 years old\", \"additional_kwargs\": {}, \"response_metadata\": {}, \"type\": \"human\", \"name\": null, \"id\": null, \"example\": false}}, {\"time\": \"2024-07-07T12:54:28.029602\", \"base_message\": {\"content\": \"Cool, Yves! And what\\u2019s your gender and height?\", \"additional_kwargs\": {}, \"response_metadata\": {\"token_usage\": {\"completion_tokens\": 12, \"prompt_tokens\": 239, \"total_tokens\": 251}, \"model_name\": \"gpt-4o-2024-05-13\", \"system_fingerprint\": \"fp_d576307f90\", \"finish_reason\": \"stop\", \"logprobs\": null}, \"type\": \"ai\", \"name\": null, \"id\": \"run-3ddc7fc5-20ef-4c17-923d-d7635c763617-0\", \"example\": false, \"tool_calls\": [], \"invalid_tool_calls\": [], \"usage_metadata\": {\"input_tokens\": 239, \"output_tokens\": 12, \"total_tokens\": 251}}}, {\"time\": \"2024-07-07T12:54:29.760456\", \"base_message\": {\"content\": \"I am a man\", \"additional_kwargs\": {}, \"response_metadata\": {}, \"type\": \"human\", \"name\": null, \"id\": null, \"example\": false}}, {\"time\": \"2024-07-07T12:54:29.760470\", \"base_message\": {\"content\": \"Great, thanks for sharing! How tall are you, Yves?\", \"additional_kwargs\": {}, \"response_metadata\": {\"token_usage\": {\"completion_tokens\": 13, \"prompt_tokens\": 263, \"total_tokens\": 276}, \"model_name\": \"gpt-4o-2024-05-13\", \"system_fingerprint\": \"fp_d576307f90\", \"finish_reason\": \"stop\", \"logprobs\": null}, \"type\": \"ai\", \"name\": null, \"id\": \"run-a6774ab5-d99d-4ab0-8f13-96d2b258fde7-0\", \"example\": false, \"tool_calls\": [], \"invalid_tool_calls\": [], \"usage_metadata\": {\"input_tokens\": 263, \"output_tokens\": 13, \"total_tokens\": 276}}}, {\"time\": \"2024-07-07T12:54:31.474899\", \"base_message\": {\"content\": \"185cm\", \"additional_kwargs\": {}, \"response_metadata\": {}, \"type\": \"human\", \"name\": null, \"id\": null, \"example\": false}}, {\"time\": \"2024-07-07T12:54:31.474914\", \"base_message\": {\"content\": \"Perfect, got it! Thanks for sharing all that info. I'll check in with you tomorrow. Any questions for now? \\ud83d\\ude0a\", \"additional_kwargs\": {}, \"response_metadata\": {\"token_usage\": {\"completion_tokens\": 25, \"prompt_tokens\": 286, \"total_tokens\": 311}, \"model_name\": \"gpt-4o-2024-05-13\", \"system_fingerprint\": \"fp_4008e3b719\", \"finish_reason\": \"stop\", \"logprobs\": null}, \"type\": \"ai\", \"name\": null, \"id\": \"run-8b20eac6-cd3a-4da8-9d05-f0160cd321e4-0\", \"example\": false, \"tool_calls\": [], \"invalid_tool_calls\": [], \"usage_metadata\": {\"input_tokens\": 286, \"output_tokens\": 25, \"total_tokens\": 311}}}, {\"time\": \"2024-07-07T12:54:35.202692\", \"base_message\": {\"content\": \"Perfect, got it! So, how many steps did you take yesterday, and what\\u2019s your current weight? \\ud83d\\ude0a\", \"additional_kwargs\": {}, \"response_metadata\": {\"token_usage\": {\"completion_tokens\": 23, \"prompt_tokens\": 249, \"total_tokens\": 272}, \"model_name\": \"gpt-4o-2024-05-13\", \"system_fingerprint\": \"fp_d576307f90\", \"finish_reason\": \"stop\", \"logprobs\": null}, \"type\": \"ai\", \"name\": null, \"id\": \"run-74075e4a-5143-49dd-9ea3-5e69509dce37-0\", \"example\": false, \"tool_calls\": [], \"invalid_tool_calls\": [], \"usage_metadata\": {\"input_tokens\": 249, \"output_tokens\": 23, \"total_tokens\": 272}}}]}\n",
      "User:  I did 10k steps\n",
      "FitChat:  Awesome job on the steps! 💪 What about your current weight?\n",
      "Activity logs:  [{'calories': None, 'steps': 10000, 'weight': None, 'protein': None, 'date': datetime.datetime(2024, 7, 7, 12, 54, 38, 357404)}]\n"
     ]
    }
   ],
   "source": [
    "send_daily_message(\"+41799506553\")\n",
    "process_message(\"I did 10k steps\", \"+41799506553\")"
   ]
  },
  {
   "cell_type": "code",
   "execution_count": 14,
   "metadata": {},
   "outputs": [
    {
     "name": "stdout",
     "output_type": "stream",
     "text": [
      "{\"paid\": false, \"day\": 1, \"user_data\": {\"first_name\": \"Yves\", \"age\": \"25\", \"gender\": \"man\", \"height\": 185}, \"dated_activity_logs\": [{\"calories\": null, \"steps\": 10000, \"weight\": null, \"protein\": null, \"date\": \"2024-07-07T12:54:38.357404\"}], \"messages\": [{\"time\": \"2024-07-07T12:54:22.307105\", \"base_message\": {\"content\": \"Hiii\", \"additional_kwargs\": {}, \"response_metadata\": {}, \"type\": \"human\", \"name\": null, \"id\": null, \"example\": false}}, {\"time\": \"2024-07-07T12:54:22.307133\", \"base_message\": {\"content\": \"Hey! \\ud83d\\ude0a How\\u2019s it going? Quick question: are you already tracking your steps?\", \"additional_kwargs\": {}, \"response_metadata\": {\"token_usage\": {\"completion_tokens\": 18, \"prompt_tokens\": 148, \"total_tokens\": 166}, \"model_name\": \"gpt-4o-2024-05-13\", \"system_fingerprint\": \"fp_ce0793330f\", \"finish_reason\": \"stop\", \"logprobs\": null}, \"type\": \"ai\", \"name\": null, \"id\": \"run-1a5ba0a5-7e20-490e-a194-0afe8d17a03b-0\", \"example\": false, \"tool_calls\": [], \"invalid_tool_calls\": [], \"usage_metadata\": {\"input_tokens\": 148, \"output_tokens\": 18, \"total_tokens\": 166}}}, {\"time\": \"2024-07-07T12:54:24.023348\", \"base_message\": {\"content\": \"Yes, im tracking my steps\", \"additional_kwargs\": {}, \"response_metadata\": {}, \"type\": \"human\", \"name\": null, \"id\": null, \"example\": false}}, {\"time\": \"2024-07-07T12:54:24.023402\", \"base_message\": {\"content\": \"Awesome! That\\u2019s a great start! What\\u2019s your name? \\ud83d\\ude0a\", \"additional_kwargs\": {}, \"response_metadata\": {\"token_usage\": {\"completion_tokens\": 14, \"prompt_tokens\": 180, \"total_tokens\": 194}, \"model_name\": \"gpt-4o-2024-05-13\", \"system_fingerprint\": \"fp_d576307f90\", \"finish_reason\": \"stop\", \"logprobs\": null}, \"type\": \"ai\", \"name\": null, \"id\": \"run-e8af14a6-eb61-4ad7-85a8-43e96e2383cb-0\", \"example\": false, \"tool_calls\": [], \"invalid_tool_calls\": [], \"usage_metadata\": {\"input_tokens\": 180, \"output_tokens\": 14, \"total_tokens\": 194}}}, {\"time\": \"2024-07-07T12:54:26.482519\", \"base_message\": {\"content\": \"Im Yves \", \"additional_kwargs\": {}, \"response_metadata\": {}, \"type\": \"human\", \"name\": null, \"id\": null, \"example\": false}}, {\"time\": \"2024-07-07T12:54:26.482531\", \"base_message\": {\"content\": \"Nice to meet you, Yves! How old are you, if you don't mind me asking? \\ud83d\\ude0a\", \"additional_kwargs\": {}, \"response_metadata\": {\"token_usage\": {\"completion_tokens\": 20, \"prompt_tokens\": 205, \"total_tokens\": 225}, \"model_name\": \"gpt-4o-2024-05-13\", \"system_fingerprint\": \"fp_d576307f90\", \"finish_reason\": \"stop\", \"logprobs\": null}, \"type\": \"ai\", \"name\": null, \"id\": \"run-7f59be99-bfca-4c93-8426-3b647dff028f-0\", \"example\": false, \"tool_calls\": [], \"invalid_tool_calls\": [], \"usage_metadata\": {\"input_tokens\": 205, \"output_tokens\": 20, \"total_tokens\": 225}}}, {\"time\": \"2024-07-07T12:54:28.029582\", \"base_message\": {\"content\": \"I am 25 years old\", \"additional_kwargs\": {}, \"response_metadata\": {}, \"type\": \"human\", \"name\": null, \"id\": null, \"example\": false}}, {\"time\": \"2024-07-07T12:54:28.029602\", \"base_message\": {\"content\": \"Cool, Yves! And what\\u2019s your gender and height?\", \"additional_kwargs\": {}, \"response_metadata\": {\"token_usage\": {\"completion_tokens\": 12, \"prompt_tokens\": 239, \"total_tokens\": 251}, \"model_name\": \"gpt-4o-2024-05-13\", \"system_fingerprint\": \"fp_d576307f90\", \"finish_reason\": \"stop\", \"logprobs\": null}, \"type\": \"ai\", \"name\": null, \"id\": \"run-3ddc7fc5-20ef-4c17-923d-d7635c763617-0\", \"example\": false, \"tool_calls\": [], \"invalid_tool_calls\": [], \"usage_metadata\": {\"input_tokens\": 239, \"output_tokens\": 12, \"total_tokens\": 251}}}, {\"time\": \"2024-07-07T12:54:29.760456\", \"base_message\": {\"content\": \"I am a man\", \"additional_kwargs\": {}, \"response_metadata\": {}, \"type\": \"human\", \"name\": null, \"id\": null, \"example\": false}}, {\"time\": \"2024-07-07T12:54:29.760470\", \"base_message\": {\"content\": \"Great, thanks for sharing! How tall are you, Yves?\", \"additional_kwargs\": {}, \"response_metadata\": {\"token_usage\": {\"completion_tokens\": 13, \"prompt_tokens\": 263, \"total_tokens\": 276}, \"model_name\": \"gpt-4o-2024-05-13\", \"system_fingerprint\": \"fp_d576307f90\", \"finish_reason\": \"stop\", \"logprobs\": null}, \"type\": \"ai\", \"name\": null, \"id\": \"run-a6774ab5-d99d-4ab0-8f13-96d2b258fde7-0\", \"example\": false, \"tool_calls\": [], \"invalid_tool_calls\": [], \"usage_metadata\": {\"input_tokens\": 263, \"output_tokens\": 13, \"total_tokens\": 276}}}, {\"time\": \"2024-07-07T12:54:31.474899\", \"base_message\": {\"content\": \"185cm\", \"additional_kwargs\": {}, \"response_metadata\": {}, \"type\": \"human\", \"name\": null, \"id\": null, \"example\": false}}, {\"time\": \"2024-07-07T12:54:31.474914\", \"base_message\": {\"content\": \"Perfect, got it! Thanks for sharing all that info. I'll check in with you tomorrow. Any questions for now? \\ud83d\\ude0a\", \"additional_kwargs\": {}, \"response_metadata\": {\"token_usage\": {\"completion_tokens\": 25, \"prompt_tokens\": 286, \"total_tokens\": 311}, \"model_name\": \"gpt-4o-2024-05-13\", \"system_fingerprint\": \"fp_4008e3b719\", \"finish_reason\": \"stop\", \"logprobs\": null}, \"type\": \"ai\", \"name\": null, \"id\": \"run-8b20eac6-cd3a-4da8-9d05-f0160cd321e4-0\", \"example\": false, \"tool_calls\": [], \"invalid_tool_calls\": [], \"usage_metadata\": {\"input_tokens\": 286, \"output_tokens\": 25, \"total_tokens\": 311}}}, {\"time\": \"2024-07-07T12:54:35.202692\", \"base_message\": {\"content\": \"Perfect, got it! So, how many steps did you take yesterday, and what\\u2019s your current weight? \\ud83d\\ude0a\", \"additional_kwargs\": {}, \"response_metadata\": {\"token_usage\": {\"completion_tokens\": 23, \"prompt_tokens\": 249, \"total_tokens\": 272}, \"model_name\": \"gpt-4o-2024-05-13\", \"system_fingerprint\": \"fp_d576307f90\", \"finish_reason\": \"stop\", \"logprobs\": null}, \"type\": \"ai\", \"name\": null, \"id\": \"run-74075e4a-5143-49dd-9ea3-5e69509dce37-0\", \"example\": false, \"tool_calls\": [], \"invalid_tool_calls\": [], \"usage_metadata\": {\"input_tokens\": 249, \"output_tokens\": 23, \"total_tokens\": 272}}}, {\"time\": \"2024-07-07T12:54:36.012638\", \"base_message\": {\"content\": \"I did 10k steps\", \"additional_kwargs\": {}, \"response_metadata\": {}, \"type\": \"human\", \"name\": null, \"id\": null, \"example\": false}}, {\"time\": \"2024-07-07T12:54:36.012664\", \"base_message\": {\"content\": \"Awesome job on the steps! \\ud83d\\udcaa What about your current weight?\", \"additional_kwargs\": {}, \"response_metadata\": {\"token_usage\": {\"completion_tokens\": 14, \"prompt_tokens\": 276, \"total_tokens\": 290}, \"model_name\": \"gpt-4o-2024-05-13\", \"system_fingerprint\": \"fp_d576307f90\", \"finish_reason\": \"stop\", \"logprobs\": null}, \"type\": \"ai\", \"name\": null, \"id\": \"run-0d5d2be2-6c9c-474d-a946-799708213d75-0\", \"example\": false, \"tool_calls\": [], \"invalid_tool_calls\": [], \"usage_metadata\": {\"input_tokens\": 276, \"output_tokens\": 14, \"total_tokens\": 290}}}]}\n",
      "FitChat:  Nice! 10k steps are solid! 💪 How’s your weight and protein intake going?\n",
      "{\"paid\": false, \"day\": 2, \"user_data\": {\"first_name\": \"Yves\", \"age\": \"25\", \"gender\": \"man\", \"height\": 185}, \"dated_activity_logs\": [{\"calories\": null, \"steps\": 10000, \"weight\": null, \"protein\": null, \"date\": \"2024-07-07T12:54:38.357404\"}], \"messages\": [{\"time\": \"2024-07-07T12:54:22.307105\", \"base_message\": {\"content\": \"Hiii\", \"additional_kwargs\": {}, \"response_metadata\": {}, \"type\": \"human\", \"name\": null, \"id\": null, \"example\": false}}, {\"time\": \"2024-07-07T12:54:22.307133\", \"base_message\": {\"content\": \"Hey! \\ud83d\\ude0a How\\u2019s it going? Quick question: are you already tracking your steps?\", \"additional_kwargs\": {}, \"response_metadata\": {\"token_usage\": {\"completion_tokens\": 18, \"prompt_tokens\": 148, \"total_tokens\": 166}, \"model_name\": \"gpt-4o-2024-05-13\", \"system_fingerprint\": \"fp_ce0793330f\", \"finish_reason\": \"stop\", \"logprobs\": null}, \"type\": \"ai\", \"name\": null, \"id\": \"run-1a5ba0a5-7e20-490e-a194-0afe8d17a03b-0\", \"example\": false, \"tool_calls\": [], \"invalid_tool_calls\": [], \"usage_metadata\": {\"input_tokens\": 148, \"output_tokens\": 18, \"total_tokens\": 166}}}, {\"time\": \"2024-07-07T12:54:24.023348\", \"base_message\": {\"content\": \"Yes, im tracking my steps\", \"additional_kwargs\": {}, \"response_metadata\": {}, \"type\": \"human\", \"name\": null, \"id\": null, \"example\": false}}, {\"time\": \"2024-07-07T12:54:24.023402\", \"base_message\": {\"content\": \"Awesome! That\\u2019s a great start! What\\u2019s your name? \\ud83d\\ude0a\", \"additional_kwargs\": {}, \"response_metadata\": {\"token_usage\": {\"completion_tokens\": 14, \"prompt_tokens\": 180, \"total_tokens\": 194}, \"model_name\": \"gpt-4o-2024-05-13\", \"system_fingerprint\": \"fp_d576307f90\", \"finish_reason\": \"stop\", \"logprobs\": null}, \"type\": \"ai\", \"name\": null, \"id\": \"run-e8af14a6-eb61-4ad7-85a8-43e96e2383cb-0\", \"example\": false, \"tool_calls\": [], \"invalid_tool_calls\": [], \"usage_metadata\": {\"input_tokens\": 180, \"output_tokens\": 14, \"total_tokens\": 194}}}, {\"time\": \"2024-07-07T12:54:26.482519\", \"base_message\": {\"content\": \"Im Yves \", \"additional_kwargs\": {}, \"response_metadata\": {}, \"type\": \"human\", \"name\": null, \"id\": null, \"example\": false}}, {\"time\": \"2024-07-07T12:54:26.482531\", \"base_message\": {\"content\": \"Nice to meet you, Yves! How old are you, if you don't mind me asking? \\ud83d\\ude0a\", \"additional_kwargs\": {}, \"response_metadata\": {\"token_usage\": {\"completion_tokens\": 20, \"prompt_tokens\": 205, \"total_tokens\": 225}, \"model_name\": \"gpt-4o-2024-05-13\", \"system_fingerprint\": \"fp_d576307f90\", \"finish_reason\": \"stop\", \"logprobs\": null}, \"type\": \"ai\", \"name\": null, \"id\": \"run-7f59be99-bfca-4c93-8426-3b647dff028f-0\", \"example\": false, \"tool_calls\": [], \"invalid_tool_calls\": [], \"usage_metadata\": {\"input_tokens\": 205, \"output_tokens\": 20, \"total_tokens\": 225}}}, {\"time\": \"2024-07-07T12:54:28.029582\", \"base_message\": {\"content\": \"I am 25 years old\", \"additional_kwargs\": {}, \"response_metadata\": {}, \"type\": \"human\", \"name\": null, \"id\": null, \"example\": false}}, {\"time\": \"2024-07-07T12:54:28.029602\", \"base_message\": {\"content\": \"Cool, Yves! And what\\u2019s your gender and height?\", \"additional_kwargs\": {}, \"response_metadata\": {\"token_usage\": {\"completion_tokens\": 12, \"prompt_tokens\": 239, \"total_tokens\": 251}, \"model_name\": \"gpt-4o-2024-05-13\", \"system_fingerprint\": \"fp_d576307f90\", \"finish_reason\": \"stop\", \"logprobs\": null}, \"type\": \"ai\", \"name\": null, \"id\": \"run-3ddc7fc5-20ef-4c17-923d-d7635c763617-0\", \"example\": false, \"tool_calls\": [], \"invalid_tool_calls\": [], \"usage_metadata\": {\"input_tokens\": 239, \"output_tokens\": 12, \"total_tokens\": 251}}}, {\"time\": \"2024-07-07T12:54:29.760456\", \"base_message\": {\"content\": \"I am a man\", \"additional_kwargs\": {}, \"response_metadata\": {}, \"type\": \"human\", \"name\": null, \"id\": null, \"example\": false}}, {\"time\": \"2024-07-07T12:54:29.760470\", \"base_message\": {\"content\": \"Great, thanks for sharing! How tall are you, Yves?\", \"additional_kwargs\": {}, \"response_metadata\": {\"token_usage\": {\"completion_tokens\": 13, \"prompt_tokens\": 263, \"total_tokens\": 276}, \"model_name\": \"gpt-4o-2024-05-13\", \"system_fingerprint\": \"fp_d576307f90\", \"finish_reason\": \"stop\", \"logprobs\": null}, \"type\": \"ai\", \"name\": null, \"id\": \"run-a6774ab5-d99d-4ab0-8f13-96d2b258fde7-0\", \"example\": false, \"tool_calls\": [], \"invalid_tool_calls\": [], \"usage_metadata\": {\"input_tokens\": 263, \"output_tokens\": 13, \"total_tokens\": 276}}}, {\"time\": \"2024-07-07T12:54:31.474899\", \"base_message\": {\"content\": \"185cm\", \"additional_kwargs\": {}, \"response_metadata\": {}, \"type\": \"human\", \"name\": null, \"id\": null, \"example\": false}}, {\"time\": \"2024-07-07T12:54:31.474914\", \"base_message\": {\"content\": \"Perfect, got it! Thanks for sharing all that info. I'll check in with you tomorrow. Any questions for now? \\ud83d\\ude0a\", \"additional_kwargs\": {}, \"response_metadata\": {\"token_usage\": {\"completion_tokens\": 25, \"prompt_tokens\": 286, \"total_tokens\": 311}, \"model_name\": \"gpt-4o-2024-05-13\", \"system_fingerprint\": \"fp_4008e3b719\", \"finish_reason\": \"stop\", \"logprobs\": null}, \"type\": \"ai\", \"name\": null, \"id\": \"run-8b20eac6-cd3a-4da8-9d05-f0160cd321e4-0\", \"example\": false, \"tool_calls\": [], \"invalid_tool_calls\": [], \"usage_metadata\": {\"input_tokens\": 286, \"output_tokens\": 25, \"total_tokens\": 311}}}, {\"time\": \"2024-07-07T12:54:35.202692\", \"base_message\": {\"content\": \"Perfect, got it! So, how many steps did you take yesterday, and what\\u2019s your current weight? \\ud83d\\ude0a\", \"additional_kwargs\": {}, \"response_metadata\": {\"token_usage\": {\"completion_tokens\": 23, \"prompt_tokens\": 249, \"total_tokens\": 272}, \"model_name\": \"gpt-4o-2024-05-13\", \"system_fingerprint\": \"fp_d576307f90\", \"finish_reason\": \"stop\", \"logprobs\": null}, \"type\": \"ai\", \"name\": null, \"id\": \"run-74075e4a-5143-49dd-9ea3-5e69509dce37-0\", \"example\": false, \"tool_calls\": [], \"invalid_tool_calls\": [], \"usage_metadata\": {\"input_tokens\": 249, \"output_tokens\": 23, \"total_tokens\": 272}}}, {\"time\": \"2024-07-07T12:54:36.012638\", \"base_message\": {\"content\": \"I did 10k steps\", \"additional_kwargs\": {}, \"response_metadata\": {}, \"type\": \"human\", \"name\": null, \"id\": null, \"example\": false}}, {\"time\": \"2024-07-07T12:54:36.012664\", \"base_message\": {\"content\": \"Awesome job on the steps! \\ud83d\\udcaa What about your current weight?\", \"additional_kwargs\": {}, \"response_metadata\": {\"token_usage\": {\"completion_tokens\": 14, \"prompt_tokens\": 276, \"total_tokens\": 290}, \"model_name\": \"gpt-4o-2024-05-13\", \"system_fingerprint\": \"fp_d576307f90\", \"finish_reason\": \"stop\", \"logprobs\": null}, \"type\": \"ai\", \"name\": null, \"id\": \"run-0d5d2be2-6c9c-474d-a946-799708213d75-0\", \"example\": false, \"tool_calls\": [], \"invalid_tool_calls\": [], \"usage_metadata\": {\"input_tokens\": 276, \"output_tokens\": 14, \"total_tokens\": 290}}}, {\"time\": \"2024-07-07T12:54:38.486798\", \"base_message\": {\"content\": \"Nice! 10k steps are solid! \\ud83d\\udcaa How\\u2019s your weight and protein intake going?\", \"additional_kwargs\": {}, \"response_metadata\": {\"token_usage\": {\"completion_tokens\": 20, \"prompt_tokens\": 278, \"total_tokens\": 298}, \"model_name\": \"gpt-4o-2024-05-13\", \"system_fingerprint\": \"fp_d576307f90\", \"finish_reason\": \"stop\", \"logprobs\": null}, \"type\": \"ai\", \"name\": null, \"id\": \"run-d177a9f5-a93d-400c-ba2a-43eca88b3cf2-0\", \"example\": false, \"tool_calls\": [], \"invalid_tool_calls\": [], \"usage_metadata\": {\"input_tokens\": 278, \"output_tokens\": 20, \"total_tokens\": 298}}}]}\n",
      "User:  Im 92kg and had 120g of protein.\n",
      "FitChat:  Great stats! For protein, aim for about 1.6-2.2g per kg of body weight. So, you should aim for around 147-202g of protein daily. You're doing awesome! Check out https://www.yazio.com/en for meal tracking. Keep it up! 💪\n",
      "\n",
      "Chat soon! 😊\n",
      "Activity logs:  [{'calories': None, 'steps': 10000, 'weight': 92.0, 'protein': 120.0, 'date': datetime.datetime(2024, 7, 7, 12, 54, 38, 357404)}]\n"
     ]
    }
   ],
   "source": [
    "send_daily_message(\"+41799506553\")\n",
    "process_message(\"Im 92kg and had 120g of protein.\", \"+41799506553\")"
   ]
  },
  {
   "cell_type": "code",
   "execution_count": 15,
   "metadata": {},
   "outputs": [
    {
     "name": "stdout",
     "output_type": "stream",
     "text": [
      "Hiii\n",
      "Hey! 😊 How’s it going? Quick question: are you already tracking your steps?\n",
      "Yes, im tracking my steps\n",
      "Awesome! That’s a great start! What’s your name? 😊\n",
      "Im Yves \n",
      "Nice to meet you, Yves! How old are you, if you don't mind me asking? 😊\n",
      "I am 25 years old\n",
      "Cool, Yves! And what’s your gender and height?\n",
      "I am a man\n",
      "Great, thanks for sharing! How tall are you, Yves?\n",
      "185cm\n",
      "Perfect, got it! Thanks for sharing all that info. I'll check in with you tomorrow. Any questions for now? 😊\n",
      "Perfect, got it! So, how many steps did you take yesterday, and what’s your current weight? 😊\n",
      "I did 10k steps\n",
      "Awesome job on the steps! 💪 What about your current weight?\n",
      "Nice! 10k steps are solid! 💪 How’s your weight and protein intake going?\n",
      "Im 92kg and had 120g of protein.\n",
      "Great stats! For protein, aim for about 1.6-2.2g per kg of body weight. So, you should aim for around 147-202g of protein daily. You're doing awesome! Check out https://www.yazio.com/en for meal tracking. Keep it up! 💪\n",
      "\n",
      "Chat soon! 😊\n"
     ]
    }
   ],
   "source": [
    "test = kv.get(\"+41799506553\")\n",
    "test = json.loads(test)\n",
    "\n",
    "for message in test['messages']:\n",
    "    print(message['base_message']['content'])\n",
    "    "
   ]
  },
  {
   "cell_type": "code",
   "execution_count": null,
   "metadata": {},
   "outputs": [],
   "source": []
  }
 ],
 "metadata": {
  "kernelspec": {
   "display_name": "Python 3",
   "language": "python",
   "name": "python3"
  },
  "language_info": {
   "codemirror_mode": {
    "name": "ipython",
    "version": 3
   },
   "file_extension": ".py",
   "mimetype": "text/x-python",
   "name": "python",
   "nbconvert_exporter": "python",
   "pygments_lexer": "ipython3",
   "version": "3.12.4"
  }
 },
 "nbformat": 4,
 "nbformat_minor": 2
}
