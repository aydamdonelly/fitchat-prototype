{
 "cells": [
  {
   "cell_type": "code",
   "execution_count": 9,
   "metadata": {},
   "outputs": [],
   "source": [
    "import json\n",
    "from datetime import datetime\n",
    "from app.utils.vercel_kv import KV\n",
    "from langchain_core.messages import AIMessage, HumanMessage, SystemMessage, BaseMessage\n",
    "from langchain_openai import ChatOpenAI\n",
    "from app.models import User, Message\n",
    "\n",
    "kv = KV()\n",
    "model = ChatOpenAI(model_name=\"gpt-4o\")"
   ]
  },
  {
   "cell_type": "code",
   "execution_count": 10,
   "metadata": {},
   "outputs": [],
   "source": [
    "system_prompts = [\n",
    "    \"You are an Fitness Coach that helps the user loose weight. This is your first conversation with the user. Keep your answers short and simple and try to find out if the user is already tracking their steps. After that, try to learn about the first name, age, gender and height of the user. \",\n",
    "]"
   ]
  },
  {
   "cell_type": "code",
   "execution_count": 25,
   "metadata": {},
   "outputs": [
    {
     "data": {
      "text/plain": [
       "'null'"
      ]
     },
     "execution_count": 25,
     "metadata": {},
     "output_type": "execute_result"
    }
   ],
   "source": [
    "kv.set(\"+41799506553\", None)\n",
    "kv.get(\"+41799506553\")"
   ]
  },
  {
   "cell_type": "code",
   "execution_count": 29,
   "metadata": {},
   "outputs": [
    {
     "name": "stdout",
     "output_type": "stream",
     "text": [
      "User:  Hiii\n",
      "FitChat:  Hi there! Are you currently tracking your steps?\n",
      "User:  Yes, im tracking my steps\n",
      "FitChat:  That's awesome! What's your first name?\n",
      "User:  Yves\n",
      "FitChat:  Nice to meet you, Yves! You mentioned you're tracking your steps. How many steps are you aiming for each day?\n"
     ]
    }
   ],
   "source": [
    "def _message_from_dict(message: dict) -> BaseMessage:\n",
    "    _type = message[\"type\"]\n",
    "    if _type == \"human\":\n",
    "        return HumanMessage(**message)\n",
    "    elif _type == \"ai\":\n",
    "        return AIMessage(**message)\n",
    "    elif _type == \"system\":\n",
    "        return SystemMessage(**message)\n",
    "    # Add other message types as needed\n",
    "    else:\n",
    "        raise ValueError(f\"Got unexpected message type: {_type}\")\n",
    "\n",
    "def get_user(wa_id):\n",
    "    user_object = kv.get(wa_id)\n",
    "    \n",
    "    if user_object is None or user_object == \"\" or user_object == \"null\":\n",
    "        user = User()\n",
    "    else:\n",
    "        user_dict = json.loads(user_object)\n",
    "        if 'messages' in user_dict:\n",
    "            user_dict['messages'] = [\n",
    "                {\n",
    "                    **message,\n",
    "                    'base_message': _message_from_dict(message['base_message'])\n",
    "                }\n",
    "                for message in user_dict['messages']\n",
    "            ]\n",
    "        user = User(**user_dict)\n",
    "\n",
    "    return user\n",
    "\n",
    "def update_user(wa_id, user, user_message, reply_message):\n",
    "    user.messages.append(user_message)\n",
    "    user.messages.append(reply_message)\n",
    "    kv.set(wa_id, user.dict())\n",
    "\n",
    "def get_system_message(user):\n",
    "    return SystemMessage(system_prompts[0])\n",
    "\n",
    "def process_message(message, wa_id):\n",
    "    user = get_user(wa_id)\n",
    "    sys = Message(base_message=get_system_message(user))\n",
    "    hum = Message(time=datetime.now(), base_message=HumanMessage(message))\n",
    "    \n",
    "    messages = user.messages[-5:] + [sys, hum]\n",
    "    \n",
    "    # for message in messages:\n",
    "    #     print(message.base_message.type + \": \" + message.base_message.content)\n",
    "    \n",
    "    \n",
    "    base_messages = [message.base_message for message in messages]\n",
    "    reply = Message(time=datetime.now(), base_message=model.invoke(base_messages))\n",
    "    \n",
    "    update_user(wa_id, user, hum, reply)\n",
    "    \n",
    "    print(\"User: \", message)\n",
    "    print(\"FitChat: \", reply.base_message.content)\n",
    "    \n",
    "process_message(\"Hiii\", \"+41799506553\")\n",
    "process_message(\"Yes, im tracking my steps\", \"+41799506553\")\n",
    "process_message(\"Yves\", \"+41799506553\")"
   ]
  },
  {
   "cell_type": "code",
   "execution_count": 5,
   "metadata": {},
   "outputs": [
    {
     "name": "stdout",
     "output_type": "stream",
     "text": [
      "{\"paid\": false, \"user_data\": {\"first_name\": null, \"age\": null, \"gender\": null, \"height\": null}, \"activity_log\": null, \"messages\": [{\"time\": \"2024-07-05T17:43:32.336889\", \"base_message\": {\"content\": \"You are an Fitness Coach that helps the user loose weight. This is your first conversation with the user. Keep your answers short and simple and try to find out if the user is already tracking their steps. After that, try to learn about the first name, age, gender and height of the user. \", \"additional_kwargs\": {}, \"response_metadata\": {}, \"type\": \"system\", \"name\": null, \"id\": null}}, {\"time\": \"2024-07-05T17:43:32.336911\", \"base_message\": {\"content\": \"Hiii\", \"additional_kwargs\": {}, \"response_metadata\": {}, \"type\": \"human\", \"name\": null, \"id\": null, \"example\": false}}, {\"time\": \"2024-07-05T17:43:32.336943\", \"base_message\": {\"content\": \"Hello! Welcome to your fitness journey. Are you currently tracking your daily steps?\", \"additional_kwargs\": {}, \"response_metadata\": {\"token_usage\": {\"completion_tokens\": 16, \"prompt_tokens\": 75, \"total_tokens\": 91}, \"model_name\": \"gpt-4o-2024-05-13\", \"system_fingerprint\": \"fp_ce0793330f\", \"finish_reason\": \"stop\", \"logprobs\": null}, \"type\": \"ai\", \"name\": null, \"id\": \"run-b517f3b2-f924-44c7-bf6c-88e61928e0b5-0\", \"example\": false, \"tool_calls\": [], \"invalid_tool_calls\": [], \"usage_metadata\": {\"input_tokens\": 75, \"output_tokens\": 16, \"total_tokens\": 91}}}]}\n"
     ]
    }
   ],
   "source": [
    "test = kv.get(\"+41799506553\")\n",
    "print(test)"
   ]
  },
  {
   "cell_type": "code",
   "execution_count": null,
   "metadata": {},
   "outputs": [],
   "source": []
  }
 ],
 "metadata": {
  "kernelspec": {
   "display_name": "Python 3",
   "language": "python",
   "name": "python3"
  },
  "language_info": {
   "codemirror_mode": {
    "name": "ipython",
    "version": 3
   },
   "file_extension": ".py",
   "mimetype": "text/x-python",
   "name": "python",
   "nbconvert_exporter": "python",
   "pygments_lexer": "ipython3",
   "version": "3.12.4"
  }
 },
 "nbformat": 4,
 "nbformat_minor": 2
}
