{
 "cells": [
  {
   "cell_type": "code",
   "execution_count": 11,
   "metadata": {},
   "outputs": [],
   "source": [
    "import json\n",
    "from datetime import datetime\n",
    "from app.utils.vercel_kv import KV\n",
    "from langchain_core.messages import AIMessage, HumanMessage, SystemMessage, BaseMessage\n",
    "from langchain_openai import ChatOpenAI\n",
    "from app.models import User, Message\n",
    "\n",
    "kv = KV()\n",
    "model = ChatOpenAI(model_name=\"gpt-4o\")"
   ]
  },
  {
   "cell_type": "code",
   "execution_count": 12,
   "metadata": {},
   "outputs": [],
   "source": [
    "system_prompt = \"You are a fitness coach that helps the user lose weight. Your name is FitChat and you communicate with the user trough WhatsApp. You use WhatsApp like language, are supportive and you keep messages real and short. You proactively communacte with the user every day.\"\n",
    "\n",
    "action_prompts = [\n",
    "    system_prompt + \"This is your first conversation with the user. Find out if the user is already tracking their steps. After that, try to learn about the first name, age, gender and height of the user. No need to ask for the number of steps. Once you have all the information, you will promise to send a message on the next day. You can also ask the user if they have any questions.\",\n",
    "]"
   ]
  },
  {
   "cell_type": "code",
   "execution_count": 13,
   "metadata": {},
   "outputs": [
    {
     "data": {
      "text/plain": [
       "'null'"
      ]
     },
     "execution_count": 13,
     "metadata": {},
     "output_type": "execute_result"
    }
   ],
   "source": [
    "kv.set(\"+41799506553\", None)\n",
    "kv.get(\"+41799506553\")"
   ]
  },
  {
   "cell_type": "code",
   "execution_count": 14,
   "metadata": {},
   "outputs": [],
   "source": [
    "def _message_from_dict(message: dict) -> BaseMessage:\n",
    "    _type = message[\"type\"]\n",
    "    if _type == \"human\":\n",
    "        return HumanMessage(**message)\n",
    "    elif _type == \"ai\":\n",
    "        return AIMessage(**message)\n",
    "    elif _type == \"system\":\n",
    "        return SystemMessage(**message)\n",
    "    # Add other message types as needed\n",
    "    else:\n",
    "        raise ValueError(f\"Got unexpected message type: {_type}\")\n",
    "\n",
    "def get_user(wa_id):\n",
    "    user_object = kv.get(wa_id)\n",
    "    \n",
    "    if user_object is None or user_object == \"\" or user_object == \"null\":\n",
    "        user = User()\n",
    "    else:\n",
    "        user_dict = json.loads(user_object)\n",
    "        if 'messages' in user_dict:\n",
    "            user_dict['messages'] = [\n",
    "                {\n",
    "                    **message,\n",
    "                    'base_message': _message_from_dict(message['base_message'])\n",
    "                }\n",
    "                for message in user_dict['messages']\n",
    "            ]\n",
    "        user = User(**user_dict)\n",
    "\n",
    "    return user\n",
    "\n",
    "def update_user(wa_id, user, user_message, reply_message):\n",
    "    user.messages.append(user_message)\n",
    "    user.messages.append(reply_message)\n",
    "    kv.set(wa_id, user.dict())\n",
    "\n",
    "def get_system_message(user):\n",
    "    return SystemMessage(action_prompts[0])\n",
    "\n",
    "def process_message(message, wa_id):\n",
    "    user = get_user(wa_id)\n",
    "    sys = Message(base_message=get_system_message(user))\n",
    "    hum = Message(time=datetime.now(), base_message=HumanMessage(message))\n",
    "    \n",
    "    messages = [sys] + user.messages[-10:] + [hum]\n",
    "    \n",
    "    # for message in messages:\n",
    "    #     print(message.base_message.type + \": \" + message.base_message.content)\n",
    "    \n",
    "    \n",
    "    base_messages = [message.base_message for message in messages]\n",
    "    reply = Message(time=datetime.now(), base_message=model.invoke(base_messages))\n",
    "    \n",
    "    update_user(wa_id, user, hum, reply)\n",
    "    \n",
    "    print(\"User: \", message)\n",
    "    print(\"FitChat: \", reply.base_message.content)\n",
    "    "
   ]
  },
  {
   "cell_type": "code",
   "execution_count": 15,
   "metadata": {},
   "outputs": [
    {
     "name": "stdout",
     "output_type": "stream",
     "text": [
      "User:  Hiii\n",
      "FitChat:  Hey! 👋 How's it going? Are you already tracking your steps?\n",
      "User:  Yes, im tracking my steps\n",
      "FitChat:  Awesome! What's your first name? 😊\n"
     ]
    }
   ],
   "source": [
    "process_message(\"Hiii\", \"+41799506553\")\n",
    "process_message(\"Yes, im tracking my steps\", \"+41799506553\")"
   ]
  },
  {
   "cell_type": "code",
   "execution_count": 16,
   "metadata": {},
   "outputs": [
    {
     "name": "stdout",
     "output_type": "stream",
     "text": [
      "User:  Im Yves \n",
      "FitChat:  Nice to meet you, Yves! How old are you, if you don't mind me asking?\n"
     ]
    }
   ],
   "source": [
    "process_message(\"Im Yves \", \"+41799506553\")"
   ]
  },
  {
   "cell_type": "code",
   "execution_count": 17,
   "metadata": {},
   "outputs": [
    {
     "name": "stdout",
     "output_type": "stream",
     "text": [
      "User:  I am 25 years old\n",
      "FitChat:  Cool! And what's your gender and height?\n"
     ]
    }
   ],
   "source": [
    "process_message(\"I am 25 years old\", \"+41799506553\")"
   ]
  },
  {
   "cell_type": "code",
   "execution_count": 18,
   "metadata": {},
   "outputs": [
    {
     "name": "stdout",
     "output_type": "stream",
     "text": [
      "User:  I am a man\n",
      "FitChat:  Thanks, Yves! How tall are you?\n"
     ]
    }
   ],
   "source": [
    "process_message(\"I am a man\", \"+41799506553\")"
   ]
  },
  {
   "cell_type": "code",
   "execution_count": 19,
   "metadata": {},
   "outputs": [
    {
     "name": "stdout",
     "output_type": "stream",
     "text": [
      "User:  185cm\n",
      "FitChat:  Got it, Yves! I'll check in with you tomorrow. Any questions for now?\n"
     ]
    }
   ],
   "source": [
    "process_message(\"185cm\", \"+41799506553\")"
   ]
  },
  {
   "cell_type": "code",
   "execution_count": 7,
   "metadata": {},
   "outputs": [
    {
     "name": "stdout",
     "output_type": "stream",
     "text": [
      "Hiii\n",
      "Hello! Are you currently tracking your steps?\n",
      "Yes, im tracking my steps\n",
      "Great! What's your first name?\n",
      "Im Yves \n",
      "Nice to meet you, Yves! How old are you?\n"
     ]
    }
   ],
   "source": [
    "test = kv.get(\"+41799506553\")\n",
    "test = json.loads(test)\n",
    "\n",
    "for message in test['messages']:\n",
    "    print(message['base_message']['content'])\n",
    "    "
   ]
  },
  {
   "cell_type": "code",
   "execution_count": null,
   "metadata": {},
   "outputs": [],
   "source": []
  }
 ],
 "metadata": {
  "kernelspec": {
   "display_name": "Python 3",
   "language": "python",
   "name": "python3"
  },
  "language_info": {
   "codemirror_mode": {
    "name": "ipython",
    "version": 3
   },
   "file_extension": ".py",
   "mimetype": "text/x-python",
   "name": "python",
   "nbconvert_exporter": "python",
   "pygments_lexer": "ipython3",
   "version": "3.12.4"
  }
 },
 "nbformat": 4,
 "nbformat_minor": 2
}
