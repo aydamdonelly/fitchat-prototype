{
 "cells": [
  {
   "cell_type": "code",
   "execution_count": 1,
   "metadata": {},
   "outputs": [],
   "source": [
    "from langchain_openai import ChatOpenAI\n",
    "from langchain.agents import tool\n",
    "from langchain_core.prompts import ChatPromptTemplate, MessagesPlaceholder\n",
    "from langchain.agents.format_scratchpad.openai_tools import (\n",
    "    format_to_openai_tool_messages,\n",
    ")\n",
    "from langchain.agents.output_parsers.openai_tools import OpenAIToolsAgentOutputParser\n",
    "from langchain.agents import AgentExecutor\n",
    "\n",
    "from app.models import DatedActivityLog\n",
    "\n",
    "llm = ChatOpenAI(model=\"gpt-4o\", temperature=0)"
   ]
  },
  {
   "cell_type": "code",
   "execution_count": 2,
   "metadata": {},
   "outputs": [],
   "source": [
    "@tool\n",
    "def get_protein_intake(weight: int) -> int:\n",
    "    \"\"\"Returns the recommended protein intake for a person based on their weight.\"\"\"\n",
    "    return weight * 0.8\n",
    "\n",
    "@tool\n",
    "def get_bmr(weight: int, height: int, age: int, gender: str, activity_level: str) -> tuple:\n",
    "    \"\"\"\n",
    "    Returns the Basal Metabolic Rate (BMR) and Total Daily Energy Expenditure (TDEE) for a person based on their weight, height, age, gender (male, female), and activity level (sedentary, lightly active, moderately active, very active, super active).\n",
    "\n",
    "    Parameters:\n",
    "        weight (float): Weight of the person in kilograms.\n",
    "        height (float): Height of the person in centimeters.\n",
    "        age (int): Age of the person in years.\n",
    "        gender (str): Gender of the person, either 'male' or 'female'.\n",
    "        activity_level (str): Activity level of the person, one of the following:\n",
    "            - 'sedentary'\n",
    "            - 'lightly active'\n",
    "            - 'moderately active'\n",
    "            - 'very active'\n",
    "            - 'super active'\n",
    "\n",
    "    Returns:\n",
    "        tuple: A tuple containing:\n",
    "            - BMR (float): Basal Metabolic Rate.\n",
    "            - TDEE (float): Total Daily Energy Expenditure.\n",
    "    \"\"\"\n",
    "    \n",
    "    # Calculate BMR\n",
    "    if gender == 'male':\n",
    "        bmr = 10 * weight + 6.25 * height - 5 * age + 5\n",
    "    elif gender == 'female':\n",
    "        bmr = 10 * weight + 6.25 * height - 5 * age - 161\n",
    "    else:\n",
    "        raise ValueError(\"Gender must be 'male' or 'female'\")\n",
    "\n",
    "    # Calculate TDEE based on activity level\n",
    "    activity_multipliers = {\n",
    "        'sedentary': 1.2,\n",
    "        'lightly active': 1.375,\n",
    "        'moderately active': 1.55,\n",
    "        'very active': 1.725,\n",
    "        'super active': 1.9\n",
    "    }\n",
    "\n",
    "    if activity_level not in activity_multipliers:\n",
    "        raise ValueError(\"Activity level must be one of: 'sedentary', 'lightly active', 'moderately active', 'very active', 'super active'\")\n",
    "\n",
    "    tdee = bmr * activity_multipliers[activity_level]\n",
    "    \n",
    "    return bmr, tdee\n",
    "\n",
    "    "
   ]
  },
  {
   "cell_type": "code",
   "execution_count": 3,
   "metadata": {},
   "outputs": [],
   "source": [
    "tools = [get_protein_intake, get_bmr]"
   ]
  },
  {
   "cell_type": "code",
   "execution_count": 4,
   "metadata": {},
   "outputs": [],
   "source": [
    "prompt = ChatPromptTemplate.from_messages(\n",
    "    [\n",
    "        (\n",
    "            \"system\",\n",
    "            \"You are very powerful assistant, but don't know current events\",\n",
    "        ),\n",
    "        (\"user\", \"{input}\"),\n",
    "        MessagesPlaceholder(variable_name=\"agent_scratchpad\"),\n",
    "    ]\n",
    ")"
   ]
  },
  {
   "cell_type": "code",
   "execution_count": 5,
   "metadata": {},
   "outputs": [],
   "source": [
    "llm_with_tools = llm.bind_tools(tools)"
   ]
  },
  {
   "cell_type": "code",
   "execution_count": 6,
   "metadata": {},
   "outputs": [],
   "source": [
    "agent = (\n",
    "    {\n",
    "        \"input\": lambda x: x[\"input\"],\n",
    "        \"agent_scratchpad\": lambda x: format_to_openai_tool_messages(\n",
    "            x[\"intermediate_steps\"]\n",
    "        ),\n",
    "    }\n",
    "    | prompt\n",
    "    | llm_with_tools\n",
    "    | OpenAIToolsAgentOutputParser()\n",
    ")"
   ]
  },
  {
   "cell_type": "code",
   "execution_count": 7,
   "metadata": {},
   "outputs": [],
   "source": [
    "agent_executor = AgentExecutor(agent=agent, tools=tools, verbose=True)"
   ]
  },
  {
   "cell_type": "code",
   "execution_count": 8,
   "metadata": {},
   "outputs": [
    {
     "name": "stdout",
     "output_type": "stream",
     "text": [
      "\n",
      "\n",
      "\u001b[1m> Entering new AgentExecutor chain...\u001b[0m\n",
      "\u001b[32;1m\u001b[1;3m\n",
      "Invoking: `get_protein_intake` with `{'weight': 80}`\n",
      "\n",
      "\n",
      "\u001b[0m\u001b[36;1m\u001b[1;3m64.0\u001b[0m\u001b[32;1m\u001b[1;3mBased on your weight of 80 kg, you should aim to consume approximately 64 grams of protein per day.\u001b[0m\n",
      "\n",
      "\u001b[1m> Finished chain.\u001b[0m\n"
     ]
    },
    {
     "data": {
      "text/plain": [
       "[{'actions': [ToolAgentAction(tool='get_protein_intake', tool_input={'weight': 80}, log=\"\\nInvoking: `get_protein_intake` with `{'weight': 80}`\\n\\n\\n\", message_log=[AIMessageChunk(content='', additional_kwargs={'tool_calls': [{'index': 0, 'id': 'call_ebqt41H6CMamsrFhSddVixZ1', 'function': {'arguments': '{\"weight\":80}', 'name': 'get_protein_intake'}, 'type': 'function'}]}, response_metadata={'finish_reason': 'tool_calls', 'model_name': 'gpt-4o-2024-05-13', 'system_fingerprint': 'fp_d576307f90'}, id='run-d08a9b3c-f058-489c-8297-c869923be2bf', tool_calls=[{'name': 'get_protein_intake', 'args': {'weight': 80}, 'id': 'call_ebqt41H6CMamsrFhSddVixZ1'}], tool_call_chunks=[{'name': 'get_protein_intake', 'args': '{\"weight\":80}', 'id': 'call_ebqt41H6CMamsrFhSddVixZ1', 'index': 0}])], tool_call_id='call_ebqt41H6CMamsrFhSddVixZ1')],\n",
       "  'messages': [AIMessageChunk(content='', additional_kwargs={'tool_calls': [{'index': 0, 'id': 'call_ebqt41H6CMamsrFhSddVixZ1', 'function': {'arguments': '{\"weight\":80}', 'name': 'get_protein_intake'}, 'type': 'function'}]}, response_metadata={'finish_reason': 'tool_calls', 'model_name': 'gpt-4o-2024-05-13', 'system_fingerprint': 'fp_d576307f90'}, id='run-d08a9b3c-f058-489c-8297-c869923be2bf', tool_calls=[{'name': 'get_protein_intake', 'args': {'weight': 80}, 'id': 'call_ebqt41H6CMamsrFhSddVixZ1'}], tool_call_chunks=[{'name': 'get_protein_intake', 'args': '{\"weight\":80}', 'id': 'call_ebqt41H6CMamsrFhSddVixZ1', 'index': 0}])]},\n",
       " {'steps': [AgentStep(action=ToolAgentAction(tool='get_protein_intake', tool_input={'weight': 80}, log=\"\\nInvoking: `get_protein_intake` with `{'weight': 80}`\\n\\n\\n\", message_log=[AIMessageChunk(content='', additional_kwargs={'tool_calls': [{'index': 0, 'id': 'call_ebqt41H6CMamsrFhSddVixZ1', 'function': {'arguments': '{\"weight\":80}', 'name': 'get_protein_intake'}, 'type': 'function'}]}, response_metadata={'finish_reason': 'tool_calls', 'model_name': 'gpt-4o-2024-05-13', 'system_fingerprint': 'fp_d576307f90'}, id='run-d08a9b3c-f058-489c-8297-c869923be2bf', tool_calls=[{'name': 'get_protein_intake', 'args': {'weight': 80}, 'id': 'call_ebqt41H6CMamsrFhSddVixZ1'}], tool_call_chunks=[{'name': 'get_protein_intake', 'args': '{\"weight\":80}', 'id': 'call_ebqt41H6CMamsrFhSddVixZ1', 'index': 0}])], tool_call_id='call_ebqt41H6CMamsrFhSddVixZ1'), observation=64.0)],\n",
       "  'messages': [FunctionMessage(content='64.0', name='get_protein_intake')]},\n",
       " {'output': 'Based on your weight of 80 kg, you should aim to consume approximately 64 grams of protein per day.',\n",
       "  'messages': [AIMessage(content='Based on your weight of 80 kg, you should aim to consume approximately 64 grams of protein per day.')]}]"
      ]
     },
     "execution_count": 8,
     "metadata": {},
     "output_type": "execute_result"
    }
   ],
   "source": [
    "list(agent_executor.stream({\"input\": \"I am 80kg, how much protein should I eat?\"}))"
   ]
  },
  {
   "cell_type": "code",
   "execution_count": 9,
   "metadata": {},
   "outputs": [
    {
     "name": "stdout",
     "output_type": "stream",
     "text": [
      "\n",
      "\n",
      "\u001b[1m> Entering new AgentExecutor chain...\u001b[0m\n",
      "\u001b[32;1m\u001b[1;3m\n",
      "Invoking: `get_bmr` with `{'weight': 90, 'height': 186, 'age': 25, 'gender': 'male', 'activity_level': 'moderately active'}`\n",
      "\n",
      "\n",
      "\u001b[0m\u001b[33;1m\u001b[1;3m(1942.5, 3010.875)\u001b[0m\u001b[32;1m\u001b[1;3mYour Basal Metabolic Rate (BMR) is approximately 1942.5 calories per day, and your Total Daily Energy Expenditure (TDEE) is approximately 3010.875 calories per day.\u001b[0m\n",
      "\n",
      "\u001b[1m> Finished chain.\u001b[0m\n"
     ]
    },
    {
     "data": {
      "text/plain": [
       "[{'actions': [ToolAgentAction(tool='get_bmr', tool_input={'weight': 90, 'height': 186, 'age': 25, 'gender': 'male', 'activity_level': 'moderately active'}, log=\"\\nInvoking: `get_bmr` with `{'weight': 90, 'height': 186, 'age': 25, 'gender': 'male', 'activity_level': 'moderately active'}`\\n\\n\\n\", message_log=[AIMessageChunk(content='', additional_kwargs={'tool_calls': [{'index': 0, 'id': 'call_P11gdCX9LZnrP1AZgJb0JdZ8', 'function': {'arguments': '{\"weight\":90,\"height\":186,\"age\":25,\"gender\":\"male\",\"activity_level\":\"moderately active\"}', 'name': 'get_bmr'}, 'type': 'function'}]}, response_metadata={'finish_reason': 'tool_calls', 'model_name': 'gpt-4o-2024-05-13', 'system_fingerprint': 'fp_ce0793330f'}, id='run-42edf764-157b-4e5a-a6f9-3257c72154a5', tool_calls=[{'name': 'get_bmr', 'args': {'weight': 90, 'height': 186, 'age': 25, 'gender': 'male', 'activity_level': 'moderately active'}, 'id': 'call_P11gdCX9LZnrP1AZgJb0JdZ8'}], tool_call_chunks=[{'name': 'get_bmr', 'args': '{\"weight\":90,\"height\":186,\"age\":25,\"gender\":\"male\",\"activity_level\":\"moderately active\"}', 'id': 'call_P11gdCX9LZnrP1AZgJb0JdZ8', 'index': 0}])], tool_call_id='call_P11gdCX9LZnrP1AZgJb0JdZ8')],\n",
       "  'messages': [AIMessageChunk(content='', additional_kwargs={'tool_calls': [{'index': 0, 'id': 'call_P11gdCX9LZnrP1AZgJb0JdZ8', 'function': {'arguments': '{\"weight\":90,\"height\":186,\"age\":25,\"gender\":\"male\",\"activity_level\":\"moderately active\"}', 'name': 'get_bmr'}, 'type': 'function'}]}, response_metadata={'finish_reason': 'tool_calls', 'model_name': 'gpt-4o-2024-05-13', 'system_fingerprint': 'fp_ce0793330f'}, id='run-42edf764-157b-4e5a-a6f9-3257c72154a5', tool_calls=[{'name': 'get_bmr', 'args': {'weight': 90, 'height': 186, 'age': 25, 'gender': 'male', 'activity_level': 'moderately active'}, 'id': 'call_P11gdCX9LZnrP1AZgJb0JdZ8'}], tool_call_chunks=[{'name': 'get_bmr', 'args': '{\"weight\":90,\"height\":186,\"age\":25,\"gender\":\"male\",\"activity_level\":\"moderately active\"}', 'id': 'call_P11gdCX9LZnrP1AZgJb0JdZ8', 'index': 0}])]},\n",
       " {'steps': [AgentStep(action=ToolAgentAction(tool='get_bmr', tool_input={'weight': 90, 'height': 186, 'age': 25, 'gender': 'male', 'activity_level': 'moderately active'}, log=\"\\nInvoking: `get_bmr` with `{'weight': 90, 'height': 186, 'age': 25, 'gender': 'male', 'activity_level': 'moderately active'}`\\n\\n\\n\", message_log=[AIMessageChunk(content='', additional_kwargs={'tool_calls': [{'index': 0, 'id': 'call_P11gdCX9LZnrP1AZgJb0JdZ8', 'function': {'arguments': '{\"weight\":90,\"height\":186,\"age\":25,\"gender\":\"male\",\"activity_level\":\"moderately active\"}', 'name': 'get_bmr'}, 'type': 'function'}]}, response_metadata={'finish_reason': 'tool_calls', 'model_name': 'gpt-4o-2024-05-13', 'system_fingerprint': 'fp_ce0793330f'}, id='run-42edf764-157b-4e5a-a6f9-3257c72154a5', tool_calls=[{'name': 'get_bmr', 'args': {'weight': 90, 'height': 186, 'age': 25, 'gender': 'male', 'activity_level': 'moderately active'}, 'id': 'call_P11gdCX9LZnrP1AZgJb0JdZ8'}], tool_call_chunks=[{'name': 'get_bmr', 'args': '{\"weight\":90,\"height\":186,\"age\":25,\"gender\":\"male\",\"activity_level\":\"moderately active\"}', 'id': 'call_P11gdCX9LZnrP1AZgJb0JdZ8', 'index': 0}])], tool_call_id='call_P11gdCX9LZnrP1AZgJb0JdZ8'), observation=(1942.5, 3010.875))],\n",
       "  'messages': [FunctionMessage(content='[1942.5, 3010.875]', name='get_bmr')]},\n",
       " {'output': 'Your Basal Metabolic Rate (BMR) is approximately 1942.5 calories per day, and your Total Daily Energy Expenditure (TDEE) is approximately 3010.875 calories per day.',\n",
       "  'messages': [AIMessage(content='Your Basal Metabolic Rate (BMR) is approximately 1942.5 calories per day, and your Total Daily Energy Expenditure (TDEE) is approximately 3010.875 calories per day.')]}]"
      ]
     },
     "execution_count": 9,
     "metadata": {},
     "output_type": "execute_result"
    }
   ],
   "source": [
    "list(agent_executor.stream({\"input\": \"I am 90kg, 186cm, 25 years old and male. I am moderately active, what is my BMR and TDEE?\"}))"
   ]
  },
  {
   "cell_type": "code",
   "execution_count": null,
   "metadata": {},
   "outputs": [],
   "source": []
  }
 ],
 "metadata": {
  "kernelspec": {
   "display_name": "Python 3",
   "language": "python",
   "name": "python3"
  },
  "language_info": {
   "codemirror_mode": {
    "name": "ipython",
    "version": 3
   },
   "file_extension": ".py",
   "mimetype": "text/x-python",
   "name": "python",
   "nbconvert_exporter": "python",
   "pygments_lexer": "ipython3",
   "version": "3.12.4"
  }
 },
 "nbformat": 4,
 "nbformat_minor": 2
}
