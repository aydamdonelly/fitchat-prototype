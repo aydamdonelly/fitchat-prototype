{
 "cells": [
  {
   "cell_type": "code",
   "execution_count": 1,
   "metadata": {},
   "outputs": [],
   "source": [
    "from langchain_openai import ChatOpenAI\n",
    "from langchain.agents import tool\n",
    "from langchain_core.prompts import ChatPromptTemplate, MessagesPlaceholder\n",
    "from langchain.agents.format_scratchpad.openai_tools import (\n",
    "    format_to_openai_tool_messages,\n",
    ")\n",
    "from langchain.agents.output_parsers.openai_tools import OpenAIToolsAgentOutputParser\n",
    "from langchain.agents import AgentExecutor\n",
    "\n",
    "\n",
    "llm = ChatOpenAI(model=\"gpt-4o\", temperature=0)"
   ]
  },
  {
   "cell_type": "code",
   "execution_count": 2,
   "metadata": {},
   "outputs": [],
   "source": [
    "@tool\n",
    "def get_protein_intake(weight: int) -> int:\n",
    "    \"\"\"Returns the recommended protein intake for a person based on their weight.\"\"\"\n",
    "    return weight * 0.8\n"
   ]
  },
  {
   "cell_type": "code",
   "execution_count": 3,
   "metadata": {},
   "outputs": [],
   "source": [
    "tools = [get_protein_intake]"
   ]
  },
  {
   "cell_type": "code",
   "execution_count": 4,
   "metadata": {},
   "outputs": [],
   "source": [
    "prompt = ChatPromptTemplate.from_messages(\n",
    "    [\n",
    "        (\n",
    "            \"system\",\n",
    "            \"You are very powerful assistant, but don't know current events\",\n",
    "        ),\n",
    "        (\"user\", \"{input}\"),\n",
    "        MessagesPlaceholder(variable_name=\"agent_scratchpad\"),\n",
    "    ]\n",
    ")"
   ]
  },
  {
   "cell_type": "code",
   "execution_count": 5,
   "metadata": {},
   "outputs": [],
   "source": [
    "llm_with_tools = llm.bind_tools(tools)"
   ]
  },
  {
   "cell_type": "code",
   "execution_count": 6,
   "metadata": {},
   "outputs": [],
   "source": [
    "agent = (\n",
    "    {\n",
    "        \"input\": lambda x: x[\"input\"],\n",
    "        \"agent_scratchpad\": lambda x: format_to_openai_tool_messages(\n",
    "            x[\"intermediate_steps\"]\n",
    "        ),\n",
    "    }\n",
    "    | prompt\n",
    "    | llm_with_tools\n",
    "    | OpenAIToolsAgentOutputParser()\n",
    ")"
   ]
  },
  {
   "cell_type": "code",
   "execution_count": 7,
   "metadata": {},
   "outputs": [],
   "source": [
    "agent_executor = AgentExecutor(agent=agent, tools=tools, verbose=True)"
   ]
  },
  {
   "cell_type": "code",
   "execution_count": 9,
   "metadata": {},
   "outputs": [
    {
     "name": "stdout",
     "output_type": "stream",
     "text": [
      "\n",
      "\n",
      "\u001b[1m> Entering new AgentExecutor chain...\u001b[0m\n",
      "\u001b[32;1m\u001b[1;3m\n",
      "Invoking: `get_protein_intake` with `{'weight': 80}`\n",
      "\n",
      "\n",
      "\u001b[0m\u001b[33;1m\u001b[1;3m64.0\u001b[0m\u001b[32;1m\u001b[1;3mBased on your weight of 80 kg, you should aim to consume approximately 64 grams of protein per day.\u001b[0m\n",
      "\n",
      "\u001b[1m> Finished chain.\u001b[0m\n"
     ]
    },
    {
     "data": {
      "text/plain": [
       "[{'actions': [ToolAgentAction(tool='get_protein_intake', tool_input={'weight': 80}, log=\"\\nInvoking: `get_protein_intake` with `{'weight': 80}`\\n\\n\\n\", message_log=[AIMessageChunk(content='', additional_kwargs={'tool_calls': [{'index': 0, 'id': 'call_UbShrztDIlkzh9W7si5uf8hV', 'function': {'arguments': '{\"weight\":80}', 'name': 'get_protein_intake'}, 'type': 'function'}]}, response_metadata={'finish_reason': 'tool_calls', 'model_name': 'gpt-4o-2024-05-13', 'system_fingerprint': 'fp_d576307f90'}, id='run-98418cdd-ad4a-4418-a4a6-78c2ce881b87', tool_calls=[{'name': 'get_protein_intake', 'args': {'weight': 80}, 'id': 'call_UbShrztDIlkzh9W7si5uf8hV'}], tool_call_chunks=[{'name': 'get_protein_intake', 'args': '{\"weight\":80}', 'id': 'call_UbShrztDIlkzh9W7si5uf8hV', 'index': 0}])], tool_call_id='call_UbShrztDIlkzh9W7si5uf8hV')],\n",
       "  'messages': [AIMessageChunk(content='', additional_kwargs={'tool_calls': [{'index': 0, 'id': 'call_UbShrztDIlkzh9W7si5uf8hV', 'function': {'arguments': '{\"weight\":80}', 'name': 'get_protein_intake'}, 'type': 'function'}]}, response_metadata={'finish_reason': 'tool_calls', 'model_name': 'gpt-4o-2024-05-13', 'system_fingerprint': 'fp_d576307f90'}, id='run-98418cdd-ad4a-4418-a4a6-78c2ce881b87', tool_calls=[{'name': 'get_protein_intake', 'args': {'weight': 80}, 'id': 'call_UbShrztDIlkzh9W7si5uf8hV'}], tool_call_chunks=[{'name': 'get_protein_intake', 'args': '{\"weight\":80}', 'id': 'call_UbShrztDIlkzh9W7si5uf8hV', 'index': 0}])]},\n",
       " {'steps': [AgentStep(action=ToolAgentAction(tool='get_protein_intake', tool_input={'weight': 80}, log=\"\\nInvoking: `get_protein_intake` with `{'weight': 80}`\\n\\n\\n\", message_log=[AIMessageChunk(content='', additional_kwargs={'tool_calls': [{'index': 0, 'id': 'call_UbShrztDIlkzh9W7si5uf8hV', 'function': {'arguments': '{\"weight\":80}', 'name': 'get_protein_intake'}, 'type': 'function'}]}, response_metadata={'finish_reason': 'tool_calls', 'model_name': 'gpt-4o-2024-05-13', 'system_fingerprint': 'fp_d576307f90'}, id='run-98418cdd-ad4a-4418-a4a6-78c2ce881b87', tool_calls=[{'name': 'get_protein_intake', 'args': {'weight': 80}, 'id': 'call_UbShrztDIlkzh9W7si5uf8hV'}], tool_call_chunks=[{'name': 'get_protein_intake', 'args': '{\"weight\":80}', 'id': 'call_UbShrztDIlkzh9W7si5uf8hV', 'index': 0}])], tool_call_id='call_UbShrztDIlkzh9W7si5uf8hV'), observation=64.0)],\n",
       "  'messages': [FunctionMessage(content='64.0', name='get_protein_intake')]},\n",
       " {'output': 'Based on your weight of 80 kg, you should aim to consume approximately 64 grams of protein per day.',\n",
       "  'messages': [AIMessage(content='Based on your weight of 80 kg, you should aim to consume approximately 64 grams of protein per day.')]}]"
      ]
     },
     "execution_count": 9,
     "metadata": {},
     "output_type": "execute_result"
    }
   ],
   "source": [
    "list(agent_executor.stream({\"input\": \"I am 80kg, how much protein should I eat?\"}))"
   ]
  },
  {
   "cell_type": "code",
   "execution_count": null,
   "metadata": {},
   "outputs": [],
   "source": []
  }
 ],
 "metadata": {
  "kernelspec": {
   "display_name": "Python 3",
   "language": "python",
   "name": "python3"
  },
  "language_info": {
   "codemirror_mode": {
    "name": "ipython",
    "version": 3
   },
   "file_extension": ".py",
   "mimetype": "text/x-python",
   "name": "python",
   "nbconvert_exporter": "python",
   "pygments_lexer": "ipython3",
   "version": "3.12.4"
  }
 },
 "nbformat": 4,
 "nbformat_minor": 2
}
